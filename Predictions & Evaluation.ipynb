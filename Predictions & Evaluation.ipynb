{
 "cells": [
  {
   "cell_type": "markdown",
   "metadata": {
    "id": "HmQPOSQGhcLl"
   },
   "source": [
    "## Imports\n",
    "\n"
   ]
  },
  {
   "cell_type": "code",
   "execution_count": null,
   "metadata": {
    "id": "k4hv5RP-fHOc"
   },
   "outputs": [],
   "source": [
    "%run Library_Imports.ipynb"
   ]
  },
  {
   "cell_type": "markdown",
   "metadata": {},
   "source": [
    "### Table of Contents\n",
    "\n",
    "* [Data](#chapter1)\n",
    "    * [Loading](#section_1_1)\n",
    "    * [Pre-Processing](section_1_2)\n",
    "* [Decision Trees](#chapter2)\n",
    "    * [Initial Decision Tree Model - without protected attributes](#section_2_1)\n",
    "    * [Initial Decision Tree Model - with protected attributes](#section_2_2)\n",
    "    * [Feature Importance](#section_2_3)\n",
    "    * [Hypertune Decision Tree Model](#section_2_4)\n",
    "    * [HyperTune With Protected Attributes](#section_2_5)\n",
    "    * [Feature Importance](#section_2_6)\n",
    "\n",
    "* [Balancing Dataset](#chapter3)\n",
    "    * [Data Pre-Processing & Analysis](#section_3_1)\n",
    "    * [Decision Tree - without  hypertuning](#section_3_2)\n",
    "    * [HyperTune Decision Tree](#section_3_3)\n",
    "    * [Decision Tree - with hyperparamters](#section_3_4)\n",
    "* [Analysis of Fairness](#chapter4)\n",
    "    * [Similar outcomes for similar individuals](#section_4_1)\n",
    "    * [Distribution](#section_4_2)\n",
    "    * [Analysis of Similarity on Incorrect predictions](#section_4_3)\n"
   ]
  },
  {
   "cell_type": "markdown",
   "metadata": {
    "id": "fnLqA0kShm7m"
   },
   "source": [
    "## Data <a class=\"anchor\" id=\"chapter1\"></a>\n",
    "\n",
    "### Load Data <a class=\"anchor\" id=\"section_1_1\"></a>\n",
    "\n",
    "This Data was provided pre-precessed but can be found at: \n",
    "\n",
    "https://www.kaggle.com/datasets/uciml/adult-census-income"
   ]
  },
  {
   "cell_type": "code",
   "execution_count": null,
   "metadata": {
    "id": "o5-ddeZRhhQf"
   },
   "outputs": [],
   "source": [
    "train_data = pd.read_csv('adult.data', sep=\",\", header=None, skipinitialspace=True)\n"
   ]
  },
  {
   "cell_type": "code",
   "execution_count": null,
   "metadata": {
    "id": "I8OR8uUBioxv"
   },
   "outputs": [],
   "source": [
    "test_data = pd.read_csv('adult.test', sep=\",\", skiprows=1, header=None, skipinitialspace=True)\n"
   ]
  },
  {
   "cell_type": "code",
   "execution_count": null,
   "metadata": {
    "colab": {
     "base_uri": "https://localhost:8080/"
    },
    "id": "aS-FFNajjN0Z",
    "outputId": "6feb9513-21fb-41dc-bcdc-5e09b6379866"
   },
   "outputs": [
    {
     "name": "stdout",
     "output_type": "stream",
     "text": [
      "32561\n",
      "16281\n"
     ]
    }
   ],
   "source": [
    "print(len(train_data))\n",
    "print(len(test_data))\n",
    "\n",
    "# because test data is half of that of training - split it into two randomly shuffled sets of test and eval "
   ]
  },
  {
   "cell_type": "markdown",
   "metadata": {
    "id": "tlP6gxpck7Fi"
   },
   "source": [
    "Add column headings"
   ]
  },
  {
   "cell_type": "code",
   "execution_count": null,
   "metadata": {
    "id": "KHbNuooSj44j"
   },
   "outputs": [],
   "source": [
    "column_headers = ['age', 'workclass', 'fnlwgt', 'education', 'education-num', 'marital-status', 'occupation', \n",
    "                  'relationship', 'race', 'sex', 'capital-gain', 'capital-loss', 'hours-per-week', \n",
    "                  'native-country', 'earnings']"
   ]
  },
  {
   "cell_type": "code",
   "execution_count": null,
   "metadata": {
    "id": "UcetI3Iolo2C"
   },
   "outputs": [],
   "source": [
    "# apply headers to the data\n",
    "train_data.columns = column_headers\n",
    "test_data.columns = column_headers"
   ]
  },
  {
   "cell_type": "markdown",
   "metadata": {
    "id": "ZeBvtUK0ozDu"
   },
   "source": [
    "### Data Pre-processing <a class=\"anchor\" id=\"section_1_2\"></a>"
   ]
  },
  {
   "cell_type": "markdown",
   "metadata": {
    "id": "7Q1DAzxYpP4I"
   },
   "source": [
    "Split data into a features and targets dataframe. \n",
    "\n",
    "**Method:**\n",
    "\n",
    "1. Train dataset is used to train and test models\n",
    "2. Test dataset is used to evaluate on unseen data\n",
    "3. The features are excluding all protected attributes.\n",
    "4. Target is income column\n",
    "5. Categorical columns are encoded \n",
    "6. Both Train and Test Data are scaled to a normal range \n",
    "\n"
   ]
  },
  {
   "cell_type": "code",
   "execution_count": null,
   "metadata": {
    "id": "XEp5fKG_o4Bi"
   },
   "outputs": [],
   "source": [
    "features = train_data.drop(['earnings', 'marital-status', 'relationship', 'race', 'sex', 'native-country'], True)\n",
    "targets = train_data['earnings']"
   ]
  },
  {
   "cell_type": "code",
   "execution_count": null,
   "metadata": {
    "id": "6csYI_zmqCae"
   },
   "outputs": [],
   "source": [
    "# Split the data with 20% held out for testing \n",
    "\n",
    "X_train, X_test, Y_train, Y_test = train_test_split(features, targets, test_size = 0.2, random_state = 30)"
   ]
  },
  {
   "cell_type": "markdown",
   "metadata": {
    "id": "X4o3fWwbrr9v"
   },
   "source": [
    "##### Encode the categorical columns (Workclass, Education and Occupation) with LabelEncoder and scale the values to a normal range"
   ]
  },
  {
   "cell_type": "code",
   "execution_count": null,
   "metadata": {
    "id": "FBual9JRrmWS"
   },
   "outputs": [],
   "source": [
    "le = LabelEncoder()\n",
    "\n",
    "X_train.workclass= le.fit_transform(X_train.workclass.values)\n",
    "X_train.education= le.fit_transform(X_train.education.values)\n",
    "X_train.occupation= le.fit_transform(X_train.occupation.values)\n",
    "\n",
    "X_test.workclass= le.fit_transform(X_test.workclass.values)\n",
    "X_test.education= le.fit_transform(X_test.education.values)\n",
    "X_test.occupation= le.fit_transform(X_test.occupation.values)\n"
   ]
  },
  {
   "cell_type": "code",
   "execution_count": null,
   "metadata": {
    "id": "9ac-wOp7s0aV"
   },
   "outputs": [],
   "source": [
    "# Normalise the dataset \n",
    "\n",
    "scaler = StandardScaler()\n",
    "\n",
    "X_train = pd.DataFrame(scaler.fit_transform(X_train), columns = X_train.columns)\n",
    "\n",
    "X_test = pd.DataFrame(scaler.transform(X_test), columns = X_test.columns)"
   ]
  },
  {
   "cell_type": "markdown",
   "metadata": {
    "id": "q8DEdm2auo79"
   },
   "source": [
    "# Decision Trees<a class=\"anchor\" id=\"chapter2\"></a>\n",
    "\n",
    "While Decision Trees can be said to be less complex in comparison to that of a Neural Network or SVM approach, when considering the fairness, interpretability and ‘black box’ nature of the possible algorithms, the prediction outcomes from Decision Trees are easier to back trace and understand their reasoning. This was deemed more important to create explainable and fair models rather than prioritising neural complexity."
   ]
  },
  {
   "cell_type": "markdown",
   "metadata": {
    "id": "307u4sBwuuV_"
   },
   "source": [
    "## Initial Decision Tree Model - excluding protected attributes <a class=\"anchor\" id=\"section_2_1\"></a>"
   ]
  },
  {
   "cell_type": "code",
   "execution_count": null,
   "metadata": {
    "id": "ByNni__fu0_u"
   },
   "outputs": [],
   "source": [
    "# create instance of DT \n",
    "decision_tree = DecisionTreeClassifier()\n"
   ]
  },
  {
   "cell_type": "code",
   "execution_count": null,
   "metadata": {
    "colab": {
     "base_uri": "https://localhost:8080/"
    },
    "id": "0NqlKmNlu7Cg",
    "outputId": "e6d22432-8bd1-464a-a803-11fcf7f4fd9b"
   },
   "outputs": [
    {
     "data": {
      "text/plain": [
       "DecisionTreeClassifier(ccp_alpha=0.0, class_weight=None, criterion='gini',\n",
       "                       max_depth=None, max_features=None, max_leaf_nodes=None,\n",
       "                       min_impurity_decrease=0.0, min_impurity_split=None,\n",
       "                       min_samples_leaf=1, min_samples_split=2,\n",
       "                       min_weight_fraction_leaf=0.0, presort='deprecated',\n",
       "                       random_state=None, splitter='best')"
      ]
     },
     "execution_count": 39,
     "metadata": {
      "tags": []
     },
     "output_type": "execute_result"
    }
   ],
   "source": [
    "# fit the model\n",
    "decision_tree.fit(X_train, Y_train)\n"
   ]
  },
  {
   "cell_type": "code",
   "execution_count": null,
   "metadata": {
    "id": "PswBKf5UvDxv"
   },
   "outputs": [],
   "source": [
    "# predict with the model on the test set\n",
    "\n",
    "Y_pred = decision_tree.predict(X_test)"
   ]
  },
  {
   "cell_type": "markdown",
   "metadata": {
    "id": "j_kT5Kl3xqii"
   },
   "source": [
    "### Test Set Metrics"
   ]
  },
  {
   "cell_type": "code",
   "execution_count": null,
   "metadata": {
    "colab": {
     "base_uri": "https://localhost:8080/"
    },
    "id": "2RvHaMnIw4sS",
    "outputId": "55d62f76-871f-4349-e68a-a489963ae1d6"
   },
   "outputs": [
    {
     "name": "stdout",
     "output_type": "stream",
     "text": [
      "Accuracy on Test Set: 78.08997389835713%\n",
      "[[4233  737]\n",
      " [ 690  853]]\n",
      "              precision    recall  f1-score   support\n",
      "\n",
      "       <=50K       0.86      0.85      0.86      4970\n",
      "        >50K       0.54      0.55      0.54      1543\n",
      "\n",
      "    accuracy                           0.78      6513\n",
      "   macro avg       0.70      0.70      0.70      6513\n",
      "weighted avg       0.78      0.78      0.78      6513\n",
      "\n"
     ]
    }
   ],
   "source": [
    "print(\"Accuracy on Test Set: %s%%\" % (100*accuracy_score(Y_test, Y_pred)))\n",
    "print(confusion_matrix(Y_test, Y_pred))\n",
    "print(classification_report(Y_test, Y_pred))"
   ]
  },
  {
   "cell_type": "markdown",
   "metadata": {
    "id": "WKoeVYBwvOT-"
   },
   "source": [
    "### Predict on unseen Test Data"
   ]
  },
  {
   "cell_type": "code",
   "execution_count": null,
   "metadata": {
    "id": "gPg84YDZMTlK"
   },
   "outputs": [],
   "source": [
    "# Drop NaN's and clean punctuation from dataset\n",
    "\n",
    "test_data.dropna()\n",
    "test_data.earnings.replace({\"<=50K.\": \"<=50K\", \">50K.\": \">50K\"}, inplace=True)"
   ]
  },
  {
   "cell_type": "code",
   "execution_count": null,
   "metadata": {
    "id": "e1zf75nMvfCv"
   },
   "outputs": [],
   "source": [
    "# Create target and feature datasets with the protected attributes removed from the features\n",
    "\n",
    "test_features = test_data.drop(['earnings', 'marital-status', 'relationship', 'race', 'sex', 'native-country'], True)\n",
    "test_Targets = test_data['earnings']"
   ]
  },
  {
   "cell_type": "code",
   "execution_count": null,
   "metadata": {
    "id": "gTDy8MvjvrEm"
   },
   "outputs": [],
   "source": [
    "# Encode categorical columns\n",
    "\n",
    "test_features.workclass= le.fit_transform(test_features.workclass.values)\n",
    "test_features.education= le.fit_transform(test_features.education.values)\n",
    "test_features.occupation= le.fit_transform(test_features.occupation.values)"
   ]
  },
  {
   "cell_type": "code",
   "execution_count": null,
   "metadata": {
    "id": "RS39dxnMvvG2"
   },
   "outputs": [],
   "source": [
    "# Scale the data to the normal range \n",
    "\n",
    "test_data_altered = pd.DataFrame(scaler.fit_transform(test_features), columns = test_features.columns)"
   ]
  },
  {
   "cell_type": "code",
   "execution_count": null,
   "metadata": {
    "id": "cwW8m0TfvH0u"
   },
   "outputs": [],
   "source": [
    "# Predict with unseen data\n",
    "\n",
    "test_pred = decision_tree.predict(test_data_altered)"
   ]
  },
  {
   "cell_type": "markdown",
   "metadata": {
    "id": "y00MhiZV897m"
   },
   "source": [
    "### Metrics"
   ]
  },
  {
   "cell_type": "code",
   "execution_count": null,
   "metadata": {
    "colab": {
     "base_uri": "https://localhost:8080/"
    },
    "id": "3-VyDpM0wwEq",
    "outputId": "59d31b45-878e-4545-cdf1-be36aaa119d4"
   },
   "outputs": [
    {
     "name": "stdout",
     "output_type": "stream",
     "text": [
      "Accuracy on Unseen Test Set: 76.38351452613476%\n",
      "[[10481  1954]\n",
      " [ 1891  1955]]\n",
      "              precision    recall  f1-score   support\n",
      "\n",
      "       <=50K       0.85      0.84      0.85     12435\n",
      "        >50K       0.50      0.51      0.50      3846\n",
      "\n",
      "    accuracy                           0.76     16281\n",
      "   macro avg       0.67      0.68      0.67     16281\n",
      "weighted avg       0.77      0.76      0.76     16281\n",
      "\n"
     ]
    }
   ],
   "source": [
    "print(\"Accuracy on Unseen Test Set: %s%%\" % (100*accuracy_score(test_Targets, test_pred)))\n",
    "print(confusion_matrix(test_Targets, test_pred))\n",
    "print(classification_report(test_Targets, test_pred))"
   ]
  },
  {
   "cell_type": "markdown",
   "metadata": {},
   "source": [
    "**Outcome:** The models both have a decent accuracy but in diving into the confusion matrix it is clear that the skew in the data towards <=50K is effecting the performance in the class of >50K."
   ]
  },
  {
   "cell_type": "markdown",
   "metadata": {
    "id": "hOVqwCiRHyzQ"
   },
   "source": [
    "## Initial Decision Tree Model - with protected attributes  <a class=\"anchor\" id=\"section_2_2\"></a>\n",
    "\n",
    "**Protected attributes are included to test the method of excluding these for fairness**"
   ]
  },
  {
   "cell_type": "code",
   "execution_count": null,
   "metadata": {
    "id": "ycnkvJghHrnD"
   },
   "outputs": [],
   "source": [
    "# Drop only the feature column\n",
    "all_features = train_data.drop(['earnings'], True)\n"
   ]
  },
  {
   "cell_type": "code",
   "execution_count": null,
   "metadata": {
    "id": "6C5gcz0KISnZ"
   },
   "outputs": [],
   "source": [
    "# Split the data with 20% in a test set\n",
    "X_all_train, X_all_test, Y_all_train, Y_all_test = train_test_split(all_features, targets, \n",
    "                                                                    test_size = 0.2, random_state = 30)\n"
   ]
  },
  {
   "cell_type": "markdown",
   "metadata": {
    "id": "X4o3fWwbrr9v"
   },
   "source": [
    "##### Encode the categorical columns (Workclass, Education and Occupation) with LabelEncoder and scale the values to a normal range"
   ]
  },
  {
   "cell_type": "code",
   "execution_count": null,
   "metadata": {
    "id": "fWBGban5INK8"
   },
   "outputs": [],
   "source": [
    "le = LabelEncoder()\n",
    "\n",
    "X_all_train.workclass= le.fit_transform(X_all_train.workclass.values)\n",
    "X_all_train.education= le.fit_transform(X_all_train.education.values)\n",
    "X_all_train.occupation= le.fit_transform(X_all_train.occupation.values)\n",
    "X_all_train['marital-status'] = le.fit_transform(X_all_train['marital-status'].values)\n",
    "X_all_train.relationship= le.fit_transform(X_all_train.relationship.values)\n",
    "X_all_train.race= le.fit_transform(X_all_train.race.values)\n",
    "X_all_train.sex= le.fit_transform(X_all_train.sex.values)\n",
    "X_all_train['native-country']= le.fit_transform(X_all_train['native-country'].values)\n",
    "\n",
    "\n",
    "X_all_test.workclass= le.fit_transform(X_all_test.workclass.values)\n",
    "X_all_test.education= le.fit_transform(X_all_test.education.values)\n",
    "X_all_test.occupation= le.fit_transform(X_all_test.occupation.values)\n",
    "X_all_test['marital-status'] = le.fit_transform(X_all_test['marital-status'].values)\n",
    "X_all_test.relationship= le.fit_transform(X_all_test.relationship.values)\n",
    "X_all_test.race= le.fit_transform(X_all_test.race.values)\n",
    "X_all_test.sex= le.fit_transform(X_all_test.sex.values)\n",
    "X_all_test['native-country']= le.fit_transform(X_all_test['native-country'].values)"
   ]
  },
  {
   "cell_type": "code",
   "execution_count": null,
   "metadata": {
    "id": "FWGfBYG6Iq5y"
   },
   "outputs": [],
   "source": [
    "# Normalise the dataset \n",
    "\n",
    "scaler = StandardScaler()\n",
    "\n",
    "X_all_train = pd.DataFrame(scaler.fit_transform(X_all_train), columns = X_all_train.columns)\n",
    "\n",
    "X_all_test = pd.DataFrame(scaler.transform(X_all_test), columns = X_all_test.columns)"
   ]
  },
  {
   "cell_type": "code",
   "execution_count": null,
   "metadata": {
    "id": "lpZn68psJ3R0"
   },
   "outputs": [],
   "source": [
    "# create instance of DT \n",
    "\n",
    "decision_tree_all = DecisionTreeClassifier()\n"
   ]
  },
  {
   "cell_type": "code",
   "execution_count": null,
   "metadata": {
    "colab": {
     "base_uri": "https://localhost:8080/"
    },
    "id": "kfd5f1j1KDCA",
    "outputId": "5be57489-742f-48b3-829b-f595380fee6a"
   },
   "outputs": [
    {
     "data": {
      "text/plain": [
       "DecisionTreeClassifier(ccp_alpha=0.0, class_weight=None, criterion='gini',\n",
       "                       max_depth=None, max_features=None, max_leaf_nodes=None,\n",
       "                       min_impurity_decrease=0.0, min_impurity_split=None,\n",
       "                       min_samples_leaf=1, min_samples_split=2,\n",
       "                       min_weight_fraction_leaf=0.0, presort='deprecated',\n",
       "                       random_state=None, splitter='best')"
      ]
     },
     "execution_count": 53,
     "metadata": {
      "tags": []
     },
     "output_type": "execute_result"
    }
   ],
   "source": [
    "# Fit the model\n",
    "\n",
    "decision_tree_all.fit(X_all_train, Y_all_train)"
   ]
  },
  {
   "cell_type": "markdown",
   "metadata": {
    "id": "k3v-J1gm_heW"
   },
   "source": [
    "### Test Set Metrics"
   ]
  },
  {
   "cell_type": "code",
   "execution_count": null,
   "metadata": {
    "id": "prHvaZV_KF15"
   },
   "outputs": [],
   "source": [
    "# predict with the model on the test set\n",
    "\n",
    "Y_all_pred = decision_tree_all.predict(X_all_test)"
   ]
  },
  {
   "cell_type": "code",
   "execution_count": null,
   "metadata": {
    "colab": {
     "base_uri": "https://localhost:8080/"
    },
    "id": "3zop7GBcKKd-",
    "outputId": "1a89c898-7f8d-4576-f499-0a4a5a3849be"
   },
   "outputs": [
    {
     "name": "stdout",
     "output_type": "stream",
     "text": [
      "Accuracy on Test Set: 81.68278826961462%\n",
      "[[4326  644]\n",
      " [ 549  994]]\n",
      "              precision    recall  f1-score   support\n",
      "\n",
      "       <=50K       0.89      0.87      0.88      4970\n",
      "        >50K       0.61      0.64      0.62      1543\n",
      "\n",
      "    accuracy                           0.82      6513\n",
      "   macro avg       0.75      0.76      0.75      6513\n",
      "weighted avg       0.82      0.82      0.82      6513\n",
      "\n"
     ]
    }
   ],
   "source": [
    "print(\"Accuracy on Test Set: %s%%\" % (100*accuracy_score(Y_all_test, Y_all_pred)))\n",
    "print(confusion_matrix(Y_all_test, Y_all_pred))\n",
    "print(classification_report(Y_all_test, Y_all_pred))"
   ]
  },
  {
   "cell_type": "markdown",
   "metadata": {
    "id": "rYYXpeHNNgc3"
   },
   "source": [
    "### Test on Unseen Data"
   ]
  },
  {
   "cell_type": "code",
   "execution_count": null,
   "metadata": {
    "id": "VOS2VxKwKnFl"
   },
   "outputs": [],
   "source": [
    "# Drop NaN's and clean punctuation from dataset\n",
    "\n",
    "test_data.dropna()\n",
    "test_data.earnings.replace({\"<=50K.\": \"<=50K\", \">50K.\": \">50K\"}, inplace=True)"
   ]
  },
  {
   "cell_type": "code",
   "execution_count": null,
   "metadata": {
    "id": "t3y9U74zNx0i"
   },
   "outputs": [],
   "source": [
    "# Create target and feature datasets with the protected attributes included in the features\n",
    "\n",
    "unseen_test_features = test_data.drop(['earnings'], True)\n",
    "unseen_test_targets = test_data['earnings']"
   ]
  },
  {
   "cell_type": "code",
   "execution_count": null,
   "metadata": {
    "id": "t_hrZLOIKY5R"
   },
   "outputs": [],
   "source": [
    "# Encode categorical columns\n",
    "\n",
    "le = LabelEncoder()\n",
    "\n",
    "unseen_test_features.workclass= le.fit_transform(unseen_test_features.workclass.values)\n",
    "unseen_test_features.education= le.fit_transform(unseen_test_features.education.values)\n",
    "unseen_test_features.occupation= le.fit_transform(unseen_test_features.occupation.values)\n",
    "unseen_test_features['marital-status'] = le.fit_transform(unseen_test_features['marital-status'].values)\n",
    "unseen_test_features.relationship= le.fit_transform(unseen_test_features.relationship.values)\n",
    "unseen_test_features.race= le.fit_transform(unseen_test_features.race.values)\n",
    "unseen_test_features.sex= le.fit_transform(unseen_test_features.sex.values)\n",
    "unseen_test_features['native-country']= le.fit_transform(unseen_test_features['native-country'].values)\n"
   ]
  },
  {
   "cell_type": "code",
   "execution_count": null,
   "metadata": {
    "id": "4A9tWypxOV1s"
   },
   "outputs": [],
   "source": [
    "# Normalise the dataset \n",
    "\n",
    "scaler = StandardScaler()\n",
    "\n",
    "unseen_test_features = pd.DataFrame(scaler.fit_transform(unseen_test_features), columns = unseen_test_features.columns)"
   ]
  },
  {
   "cell_type": "code",
   "execution_count": null,
   "metadata": {
    "id": "3Bj7KYfcOxK2"
   },
   "outputs": [],
   "source": [
    "# Predict with the unseen data\n",
    "\n",
    "unseen_test_pred = decision_tree_all.predict(unseen_test_features)"
   ]
  },
  {
   "cell_type": "code",
   "execution_count": null,
   "metadata": {
    "colab": {
     "base_uri": "https://localhost:8080/"
    },
    "id": "0IB6elHhO1so",
    "outputId": "ff9b9b55-902c-4536-f023-1426db3d1cd1"
   },
   "outputs": [
    {
     "name": "stdout",
     "output_type": "stream",
     "text": [
      "Accuracy on Test Set: 79.95823352373932%\n",
      "[[10731  1704]\n",
      " [ 1559  2287]]\n",
      "              precision    recall  f1-score   support\n",
      "\n",
      "       <=50K       0.87      0.86      0.87     12435\n",
      "        >50K       0.57      0.59      0.58      3846\n",
      "\n",
      "    accuracy                           0.80     16281\n",
      "   macro avg       0.72      0.73      0.73     16281\n",
      "weighted avg       0.80      0.80      0.80     16281\n",
      "\n"
     ]
    }
   ],
   "source": [
    "print(\"Accuracy on Test Set: %s%%\" % (100*accuracy_score(unseen_test_targets, unseen_test_pred)))\n",
    "print(confusion_matrix(unseen_test_targets, unseen_test_pred))\n",
    "print(classification_report(unseen_test_targets, unseen_test_pred))"
   ]
  },
  {
   "cell_type": "markdown",
   "metadata": {},
   "source": [
    "**Outcome:** Similar to before the models both have a good accuracy but in looking at the confusion matrix it is clear that the protected attributes have improved perfomance especially for the >50K category which had less samples."
   ]
  },
  {
   "cell_type": "markdown",
   "metadata": {
    "id": "YqSBTgWcPPwE"
   },
   "source": [
    "## Compare Importance of Features <a class=\"anchor\" id=\"section_2_3\"></a>\n",
    "\n",
    "In this section we are looking to understand which features carried the most weight in the predictions from our Decision Trees."
   ]
  },
  {
   "cell_type": "code",
   "execution_count": null,
   "metadata": {
    "colab": {
     "base_uri": "https://localhost:8080/",
     "height": 359
    },
    "id": "ie3JjDfh9IOs",
    "outputId": "ea8f1195-2453-47f7-be09-72db6ec76cc9"
   },
   "outputs": [
    {
     "data": {
      "text/html": [
       "<div>\n",
       "<style scoped>\n",
       "    .dataframe tbody tr th:only-of-type {\n",
       "        vertical-align: middle;\n",
       "    }\n",
       "\n",
       "    .dataframe tbody tr th {\n",
       "        vertical-align: top;\n",
       "    }\n",
       "\n",
       "    .dataframe thead th {\n",
       "        text-align: right;\n",
       "    }\n",
       "</style>\n",
       "<table border=\"1\" class=\"dataframe\">\n",
       "  <thead>\n",
       "    <tr style=\"text-align: right;\">\n",
       "      <th></th>\n",
       "      <th>importance</th>\n",
       "    </tr>\n",
       "    <tr>\n",
       "      <th>feature</th>\n",
       "      <th></th>\n",
       "    </tr>\n",
       "  </thead>\n",
       "  <tbody>\n",
       "    <tr>\n",
       "      <th>fnlwgt</th>\n",
       "      <td>0.292</td>\n",
       "    </tr>\n",
       "    <tr>\n",
       "      <th>age</th>\n",
       "      <td>0.191</td>\n",
       "    </tr>\n",
       "    <tr>\n",
       "      <th>capital-gain</th>\n",
       "      <td>0.160</td>\n",
       "    </tr>\n",
       "    <tr>\n",
       "      <th>education-num</th>\n",
       "      <td>0.105</td>\n",
       "    </tr>\n",
       "    <tr>\n",
       "      <th>hours-per-week</th>\n",
       "      <td>0.080</td>\n",
       "    </tr>\n",
       "    <tr>\n",
       "      <th>occupation</th>\n",
       "      <td>0.061</td>\n",
       "    </tr>\n",
       "    <tr>\n",
       "      <th>capital-loss</th>\n",
       "      <td>0.053</td>\n",
       "    </tr>\n",
       "    <tr>\n",
       "      <th>workclass</th>\n",
       "      <td>0.042</td>\n",
       "    </tr>\n",
       "    <tr>\n",
       "      <th>education</th>\n",
       "      <td>0.016</td>\n",
       "    </tr>\n",
       "  </tbody>\n",
       "</table>\n",
       "</div>"
      ],
      "text/plain": [
       "                importance\n",
       "feature                   \n",
       "fnlwgt               0.292\n",
       "age                  0.191\n",
       "capital-gain         0.160\n",
       "education-num        0.105\n",
       "hours-per-week       0.080\n",
       "occupation           0.061\n",
       "capital-loss         0.053\n",
       "workclass            0.042\n",
       "education            0.016"
      ]
     },
     "execution_count": 63,
     "metadata": {
      "tags": []
     },
     "output_type": "execute_result"
    }
   ],
   "source": [
    "importances = pd.DataFrame({'feature':X_train.columns,'importance':np.round(decision_tree.feature_importances_,3)})\n",
    "importances = importances.sort_values('importance',ascending=False).set_index('feature')\n",
    "importances.head(15)"
   ]
  },
  {
   "cell_type": "code",
   "execution_count": null,
   "metadata": {
    "colab": {
     "base_uri": "https://localhost:8080/",
     "height": 514
    },
    "id": "-o0PYrLOO7Xx",
    "outputId": "390b341b-dfff-433d-9572-2b00c898f8e4"
   },
   "outputs": [
    {
     "data": {
      "text/html": [
       "<div>\n",
       "<style scoped>\n",
       "    .dataframe tbody tr th:only-of-type {\n",
       "        vertical-align: middle;\n",
       "    }\n",
       "\n",
       "    .dataframe tbody tr th {\n",
       "        vertical-align: top;\n",
       "    }\n",
       "\n",
       "    .dataframe thead th {\n",
       "        text-align: right;\n",
       "    }\n",
       "</style>\n",
       "<table border=\"1\" class=\"dataframe\">\n",
       "  <thead>\n",
       "    <tr style=\"text-align: right;\">\n",
       "      <th></th>\n",
       "      <th>importance</th>\n",
       "    </tr>\n",
       "    <tr>\n",
       "      <th>feature</th>\n",
       "      <th></th>\n",
       "    </tr>\n",
       "  </thead>\n",
       "  <tbody>\n",
       "    <tr>\n",
       "      <th>fnlwgt</th>\n",
       "      <td>0.206</td>\n",
       "    </tr>\n",
       "    <tr>\n",
       "      <th>relationship</th>\n",
       "      <td>0.193</td>\n",
       "    </tr>\n",
       "    <tr>\n",
       "      <th>education-num</th>\n",
       "      <td>0.120</td>\n",
       "    </tr>\n",
       "    <tr>\n",
       "      <th>age</th>\n",
       "      <td>0.117</td>\n",
       "    </tr>\n",
       "    <tr>\n",
       "      <th>capital-gain</th>\n",
       "      <td>0.115</td>\n",
       "    </tr>\n",
       "    <tr>\n",
       "      <th>hours-per-week</th>\n",
       "      <td>0.072</td>\n",
       "    </tr>\n",
       "    <tr>\n",
       "      <th>occupation</th>\n",
       "      <td>0.060</td>\n",
       "    </tr>\n",
       "    <tr>\n",
       "      <th>workclass</th>\n",
       "      <td>0.035</td>\n",
       "    </tr>\n",
       "    <tr>\n",
       "      <th>capital-loss</th>\n",
       "      <td>0.035</td>\n",
       "    </tr>\n",
       "    <tr>\n",
       "      <th>native-country</th>\n",
       "      <td>0.014</td>\n",
       "    </tr>\n",
       "    <tr>\n",
       "      <th>race</th>\n",
       "      <td>0.013</td>\n",
       "    </tr>\n",
       "    <tr>\n",
       "      <th>education</th>\n",
       "      <td>0.011</td>\n",
       "    </tr>\n",
       "    <tr>\n",
       "      <th>marital-status</th>\n",
       "      <td>0.007</td>\n",
       "    </tr>\n",
       "    <tr>\n",
       "      <th>sex</th>\n",
       "      <td>0.002</td>\n",
       "    </tr>\n",
       "  </tbody>\n",
       "</table>\n",
       "</div>"
      ],
      "text/plain": [
       "                importance\n",
       "feature                   \n",
       "fnlwgt               0.206\n",
       "relationship         0.193\n",
       "education-num        0.120\n",
       "age                  0.117\n",
       "capital-gain         0.115\n",
       "hours-per-week       0.072\n",
       "occupation           0.060\n",
       "workclass            0.035\n",
       "capital-loss         0.035\n",
       "native-country       0.014\n",
       "race                 0.013\n",
       "education            0.011\n",
       "marital-status       0.007\n",
       "sex                  0.002"
      ]
     },
     "execution_count": 64,
     "metadata": {
      "tags": []
     },
     "output_type": "execute_result"
    }
   ],
   "source": [
    "importances_all = pd.DataFrame({'feature':X_all_train.columns,'importance':np.round(decision_tree_all.feature_importances_,3)})\n",
    "importances_all = importances_all.sort_values('importance',ascending=False).set_index('feature')\n",
    "importances_all.head(15)"
   ]
  },
  {
   "cell_type": "markdown",
   "metadata": {
    "id": "qHB-JedEQOIA"
   },
   "source": [
    "**Outcome:** Clear from the comparison of features impacting the decision tree that from the stated protected attributes the one that affects decisions the most is relationship. However, the safest and fairest option is to remove all of these protected features. \n",
    "\n",
    "The importance will again be analysed following hypertuning. "
   ]
  },
  {
   "cell_type": "markdown",
   "metadata": {
    "id": "zlADU3GmRxJf"
   },
   "source": [
    "## Hypertune Decision Tree Model  <a class=\"anchor\" id=\"section_2_4\"></a>\n",
    "\n",
    "**Method:**\n",
    "\n",
    "1. Create Grid Search of Parameters:\n",
    "    a. Criterion - the measuring of the quality of the split\n",
    "    b. Maximum Depth - the depth of the tree\n",
    "    \n",
    "2. Do an initial grid search to find the best Hparams\n",
    "3. Train the Decision Tree with the Hparams identified\n",
    "\n",
    "**This is performed with and without protected features in the training dataset**"
   ]
  },
  {
   "cell_type": "markdown",
   "metadata": {
    "id": "d9IskewXUA1C"
   },
   "source": [
    "### Without Protected Attributes"
   ]
  },
  {
   "cell_type": "code",
   "execution_count": null,
   "metadata": {
    "id": "25P3Yy02SkFV"
   },
   "outputs": [],
   "source": [
    "# Create Decision Tree\n",
    "\n",
    "decision_tree_ht = DecisionTreeClassifier()"
   ]
  },
  {
   "cell_type": "code",
   "execution_count": null,
   "metadata": {
    "id": "vCk2J9XiSrtr"
   },
   "outputs": [],
   "source": [
    "# Create the Hypertuning pipeline\n",
    "\n",
    "pipe = Pipeline(steps=[('dec_tree', decision_tree_ht)])"
   ]
  },
  {
   "cell_type": "code",
   "execution_count": null,
   "metadata": {
    "id": "Sg5mJi21TECi"
   },
   "outputs": [],
   "source": [
    "# Set-up parameters to search\n",
    "\n",
    "criterion = ['gini', 'entropy']\n",
    "max_depth = [2,4,6,8,10,12]\n"
   ]
  },
  {
   "cell_type": "code",
   "execution_count": null,
   "metadata": {
    "id": "LLP1PJffTLk2"
   },
   "outputs": [],
   "source": [
    "# Add Parameters to dictionary \n",
    "parameters = dict(dec_tree__criterion=criterion,\n",
    "                  dec_tree__max_depth=max_depth)"
   ]
  },
  {
   "cell_type": "code",
   "execution_count": null,
   "metadata": {
    "colab": {
     "base_uri": "https://localhost:8080/"
    },
    "id": "eKnB7c_GTa8L",
    "outputId": "5fb52bb7-7552-4f13-af6c-dfff658b8a93"
   },
   "outputs": [
    {
     "name": "stdout",
     "output_type": "stream",
     "text": [
      "Best Criterion: gini\n",
      "Best max_depth: 8\n",
      "\n",
      "DecisionTreeClassifier(ccp_alpha=0.0, class_weight=None, criterion='gini',\n",
      "                       max_depth=8, max_features=None, max_leaf_nodes=None,\n",
      "                       min_impurity_decrease=0.0, min_impurity_split=None,\n",
      "                       min_samples_leaf=1, min_samples_split=2,\n",
      "                       min_weight_fraction_leaf=0.0, presort='deprecated',\n",
      "                       random_state=None, splitter='best')\n"
     ]
    }
   ],
   "source": [
    "# Create the grid search with the pipeline and parameters\n",
    "clf_GS = GridSearchCV(pipe, parameters)\n",
    "\n",
    "# Fitting the grid search\n",
    "clf_GS.fit(X_train, Y_train)\n",
    "\n",
    "# Viewing The Best Parameters\n",
    "print('Best Criterion:', clf_GS.best_estimator_.get_params()['dec_tree__criterion'])\n",
    "print('Best max_depth:', clf_GS.best_estimator_.get_params()['dec_tree__max_depth'])\n",
    "print(); print(clf_GS.best_estimator_.get_params()['dec_tree'])\n",
    "\n",
    "   "
   ]
  },
  {
   "cell_type": "markdown",
   "metadata": {
    "id": "H-_6uKNBUVzA"
   },
   "source": [
    "### Train DT with Hyperparams\n",
    "\n",
    "\n",
    "\n"
   ]
  },
  {
   "cell_type": "code",
   "execution_count": null,
   "metadata": {
    "colab": {
     "base_uri": "https://localhost:8080/"
    },
    "id": "YiyTZ6HuTi67",
    "outputId": "cd0dd457-7f8c-42d3-b74d-822eed71223a"
   },
   "outputs": [
    {
     "data": {
      "text/plain": [
       "DecisionTreeClassifier(ccp_alpha=0.0, class_weight=None, criterion='gini',\n",
       "                       max_depth=8, max_features=None, max_leaf_nodes=None,\n",
       "                       min_impurity_decrease=0.0, min_impurity_split=None,\n",
       "                       min_samples_leaf=1, min_samples_split=2,\n",
       "                       min_weight_fraction_leaf=0.0, presort='deprecated',\n",
       "                       random_state=None, splitter='best')"
      ]
     },
     "execution_count": 70,
     "metadata": {
      "tags": []
     },
     "output_type": "execute_result"
    }
   ],
   "source": [
    "decision_tree_ht_args = DecisionTreeClassifier(criterion='gini', max_depth=8)\n",
    "decision_tree_ht_args.fit(X_train, Y_train)"
   ]
  },
  {
   "cell_type": "code",
   "execution_count": null,
   "metadata": {
    "id": "n8hHAHIlUWja"
   },
   "outputs": [],
   "source": [
    "# Predict with test data \n",
    "\n",
    "Y_pred_ht = decision_tree_ht_args.predict(X_test)"
   ]
  },
  {
   "cell_type": "code",
   "execution_count": null,
   "metadata": {
    "colab": {
     "base_uri": "https://localhost:8080/"
    },
    "id": "6x2V_LGrUZ_U",
    "outputId": "7fe21a54-f13b-468c-fa42-f0675a3d07fd"
   },
   "outputs": [
    {
     "name": "stdout",
     "output_type": "stream",
     "text": [
      "Accuracy on Test Set: 83.60202671579917%\n",
      "[[4682  288]\n",
      " [ 780  763]]\n",
      "              precision    recall  f1-score   support\n",
      "\n",
      "       <=50K       0.86      0.94      0.90      4970\n",
      "        >50K       0.73      0.49      0.59      1543\n",
      "\n",
      "    accuracy                           0.84      6513\n",
      "   macro avg       0.79      0.72      0.74      6513\n",
      "weighted avg       0.83      0.84      0.82      6513\n",
      "\n"
     ]
    }
   ],
   "source": [
    "print(\"Accuracy on Test Set: %s%%\" % (100*accuracy_score(Y_test, Y_pred_ht)))\n",
    "print(confusion_matrix(Y_test, Y_pred_ht))\n",
    "print(classification_report(Y_test, Y_pred_ht))"
   ]
  },
  {
   "cell_type": "markdown",
   "metadata": {
    "id": "vFES8TiSVIe8"
   },
   "source": [
    "**Outcome:** See an improvement in both the accuracy and the F1 score for both classes. However >50K is still low in F1. "
   ]
  },
  {
   "cell_type": "markdown",
   "metadata": {
    "id": "8lMxrG40VewP"
   },
   "source": [
    "## HyperTune With Protected Attributes <a class=\"anchor\" id=\"section_2_5\"></a>"
   ]
  },
  {
   "cell_type": "code",
   "execution_count": null,
   "metadata": {
    "id": "3PMIq-vZVfxi"
   },
   "outputs": [],
   "source": [
    "# Create Decision Tree\n",
    "\n",
    "decision_tree_ht_all = DecisionTreeClassifier()"
   ]
  },
  {
   "cell_type": "code",
   "execution_count": null,
   "metadata": {
    "id": "Fe9spgdnV6UI"
   },
   "outputs": [],
   "source": [
    "# Create Pipeline for same Hparams as above\n",
    "\n",
    "pipe_all = Pipeline(steps=[('dec_tree', decision_tree_ht_all)])"
   ]
  },
  {
   "cell_type": "code",
   "execution_count": null,
   "metadata": {
    "colab": {
     "base_uri": "https://localhost:8080/"
    },
    "id": "HquabUfTWBiL",
    "outputId": "bb04755f-a7e3-462f-da38-fc7b0d615d61"
   },
   "outputs": [
    {
     "name": "stdout",
     "output_type": "stream",
     "text": [
      "Best Criterion: gini\n",
      "Best max_depth: 10\n",
      "\n",
      "DecisionTreeClassifier(ccp_alpha=0.0, class_weight=None, criterion='gini',\n",
      "                       max_depth=10, max_features=None, max_leaf_nodes=None,\n",
      "                       min_impurity_decrease=0.0, min_impurity_split=None,\n",
      "                       min_samples_leaf=1, min_samples_split=2,\n",
      "                       min_weight_fraction_leaf=0.0, presort='deprecated',\n",
      "                       random_state=None, splitter='best')\n"
     ]
    }
   ],
   "source": [
    "# Create grid search with the pipeline and Hparams\n",
    "clf_GS_all = GridSearchCV(pipe_all, parameters)\n",
    "\n",
    "# Fitting the grid search\n",
    "clf_GS_all.fit(X_all_train, Y_all_train)\n",
    "\n",
    "# Viewing The Best Parameters\n",
    "print('Best Criterion:', clf_GS_all.best_estimator_.get_params()['dec_tree__criterion'])\n",
    "print('Best max_depth:', clf_GS_all.best_estimator_.get_params()['dec_tree__max_depth'])\n",
    "print(); print(clf_GS_all.best_estimator_.get_params()['dec_tree'])\n"
   ]
  },
  {
   "cell_type": "markdown",
   "metadata": {
    "id": "FGUkKsHCWYMv"
   },
   "source": [
    "### Train DT with Hyperparams\n",
    "\n",
    "\n",
    "\n"
   ]
  },
  {
   "cell_type": "code",
   "execution_count": null,
   "metadata": {
    "colab": {
     "base_uri": "https://localhost:8080/"
    },
    "id": "fMBQL2moWLoN",
    "outputId": "4ec529cf-a382-4488-918e-b04caa57205e"
   },
   "outputs": [
    {
     "data": {
      "text/plain": [
       "DecisionTreeClassifier(ccp_alpha=0.0, class_weight=None, criterion='gini',\n",
       "                       max_depth=8, max_features=None, max_leaf_nodes=None,\n",
       "                       min_impurity_decrease=0.0, min_impurity_split=None,\n",
       "                       min_samples_leaf=1, min_samples_split=2,\n",
       "                       min_weight_fraction_leaf=0.0, presort='deprecated',\n",
       "                       random_state=None, splitter='best')"
      ]
     },
     "execution_count": 76,
     "metadata": {
      "tags": []
     },
     "output_type": "execute_result"
    }
   ],
   "source": [
    "decision_tree_ht_all_args = DecisionTreeClassifier(criterion='gini', max_depth=8)\n",
    "decision_tree_ht_all_args.fit(X_all_train, Y_all_train)"
   ]
  },
  {
   "cell_type": "code",
   "execution_count": null,
   "metadata": {
    "id": "LoScuHRwWdZ-"
   },
   "outputs": [],
   "source": [
    "# Predict with the test set\n",
    "Y_pred_ht_all = decision_tree_ht_all_args.predict(X_all_test)"
   ]
  },
  {
   "cell_type": "code",
   "execution_count": null,
   "metadata": {
    "colab": {
     "base_uri": "https://localhost:8080/"
    },
    "id": "Y1h_grmrWl_Q",
    "outputId": "da3b3e5c-5be1-41ef-84c9-2e864cb77ecf"
   },
   "outputs": [
    {
     "name": "stdout",
     "output_type": "stream",
     "text": [
      "Accuracy on Test Set: 85.92046675879011%\n",
      "[[4730  240]\n",
      " [ 677  866]]\n",
      "              precision    recall  f1-score   support\n",
      "\n",
      "       <=50K       0.87      0.95      0.91      4970\n",
      "        >50K       0.78      0.56      0.65      1543\n",
      "\n",
      "    accuracy                           0.86      6513\n",
      "   macro avg       0.83      0.76      0.78      6513\n",
      "weighted avg       0.85      0.86      0.85      6513\n",
      "\n"
     ]
    }
   ],
   "source": [
    "print(\"Accuracy on Test Set: %s%%\" % (100*accuracy_score(Y_all_test, Y_pred_ht_all)))\n",
    "print(confusion_matrix(Y_all_test, Y_pred_ht_all))\n",
    "print(classification_report(Y_all_test, Y_pred_ht_all))"
   ]
  },
  {
   "cell_type": "markdown",
   "metadata": {
    "id": "rCHa9JubWrHm"
   },
   "source": [
    "**Outcome:** As expected we ee an improvement in both the accuracy and the F1 score for both classes again, by using the protected attributes"
   ]
  },
  {
   "cell_type": "markdown",
   "metadata": {
    "id": "F6Ea9GK2WyXY"
   },
   "source": [
    "## Compare Importance of Features <a class=\"anchor\" id=\"section_2_6\"></a>"
   ]
  },
  {
   "cell_type": "code",
   "execution_count": null,
   "metadata": {
    "colab": {
     "base_uri": "https://localhost:8080/",
     "height": 359
    },
    "id": "X4g-HxEVWy0X",
    "outputId": "76bcd83a-754e-4ae0-c74e-a5bc03ddbb49"
   },
   "outputs": [
    {
     "data": {
      "text/html": [
       "<div>\n",
       "<style scoped>\n",
       "    .dataframe tbody tr th:only-of-type {\n",
       "        vertical-align: middle;\n",
       "    }\n",
       "\n",
       "    .dataframe tbody tr th {\n",
       "        vertical-align: top;\n",
       "    }\n",
       "\n",
       "    .dataframe thead th {\n",
       "        text-align: right;\n",
       "    }\n",
       "</style>\n",
       "<table border=\"1\" class=\"dataframe\">\n",
       "  <thead>\n",
       "    <tr style=\"text-align: right;\">\n",
       "      <th></th>\n",
       "      <th>importance</th>\n",
       "    </tr>\n",
       "    <tr>\n",
       "      <th>feature</th>\n",
       "      <th></th>\n",
       "    </tr>\n",
       "  </thead>\n",
       "  <tbody>\n",
       "    <tr>\n",
       "      <th>capital-gain</th>\n",
       "      <td>0.381</td>\n",
       "    </tr>\n",
       "    <tr>\n",
       "      <th>education-num</th>\n",
       "      <td>0.223</td>\n",
       "    </tr>\n",
       "    <tr>\n",
       "      <th>age</th>\n",
       "      <td>0.174</td>\n",
       "    </tr>\n",
       "    <tr>\n",
       "      <th>capital-loss</th>\n",
       "      <td>0.118</td>\n",
       "    </tr>\n",
       "    <tr>\n",
       "      <th>hours-per-week</th>\n",
       "      <td>0.068</td>\n",
       "    </tr>\n",
       "    <tr>\n",
       "      <th>occupation</th>\n",
       "      <td>0.023</td>\n",
       "    </tr>\n",
       "    <tr>\n",
       "      <th>fnlwgt</th>\n",
       "      <td>0.006</td>\n",
       "    </tr>\n",
       "    <tr>\n",
       "      <th>workclass</th>\n",
       "      <td>0.005</td>\n",
       "    </tr>\n",
       "    <tr>\n",
       "      <th>education</th>\n",
       "      <td>0.001</td>\n",
       "    </tr>\n",
       "  </tbody>\n",
       "</table>\n",
       "</div>"
      ],
      "text/plain": [
       "                importance\n",
       "feature                   \n",
       "capital-gain         0.381\n",
       "education-num        0.223\n",
       "age                  0.174\n",
       "capital-loss         0.118\n",
       "hours-per-week       0.068\n",
       "occupation           0.023\n",
       "fnlwgt               0.006\n",
       "workclass            0.005\n",
       "education            0.001"
      ]
     },
     "execution_count": 79,
     "metadata": {
      "tags": []
     },
     "output_type": "execute_result"
    }
   ],
   "source": [
    "importances_ht = pd.DataFrame({'feature':X_train.columns,'importance':np.round(decision_tree_ht_args.feature_importances_,3)})\n",
    "importances_ht = importances_ht.sort_values('importance',ascending=False).set_index('feature')\n",
    "importances_ht.head(15)"
   ]
  },
  {
   "cell_type": "code",
   "execution_count": null,
   "metadata": {
    "colab": {
     "base_uri": "https://localhost:8080/",
     "height": 514
    },
    "id": "tUFbyVvJW85Z",
    "outputId": "c06ab5fd-fc52-436c-8b79-9d33fcd657f1"
   },
   "outputs": [
    {
     "data": {
      "text/html": [
       "<div>\n",
       "<style scoped>\n",
       "    .dataframe tbody tr th:only-of-type {\n",
       "        vertical-align: middle;\n",
       "    }\n",
       "\n",
       "    .dataframe tbody tr th {\n",
       "        vertical-align: top;\n",
       "    }\n",
       "\n",
       "    .dataframe thead th {\n",
       "        text-align: right;\n",
       "    }\n",
       "</style>\n",
       "<table border=\"1\" class=\"dataframe\">\n",
       "  <thead>\n",
       "    <tr style=\"text-align: right;\">\n",
       "      <th></th>\n",
       "      <th>importance</th>\n",
       "    </tr>\n",
       "    <tr>\n",
       "      <th>feature</th>\n",
       "      <th></th>\n",
       "    </tr>\n",
       "  </thead>\n",
       "  <tbody>\n",
       "    <tr>\n",
       "      <th>relationship</th>\n",
       "      <td>0.391</td>\n",
       "    </tr>\n",
       "    <tr>\n",
       "      <th>education-num</th>\n",
       "      <td>0.219</td>\n",
       "    </tr>\n",
       "    <tr>\n",
       "      <th>capital-gain</th>\n",
       "      <td>0.217</td>\n",
       "    </tr>\n",
       "    <tr>\n",
       "      <th>capital-loss</th>\n",
       "      <td>0.060</td>\n",
       "    </tr>\n",
       "    <tr>\n",
       "      <th>age</th>\n",
       "      <td>0.046</td>\n",
       "    </tr>\n",
       "    <tr>\n",
       "      <th>hours-per-week</th>\n",
       "      <td>0.039</td>\n",
       "    </tr>\n",
       "    <tr>\n",
       "      <th>occupation</th>\n",
       "      <td>0.012</td>\n",
       "    </tr>\n",
       "    <tr>\n",
       "      <th>fnlwgt</th>\n",
       "      <td>0.009</td>\n",
       "    </tr>\n",
       "    <tr>\n",
       "      <th>workclass</th>\n",
       "      <td>0.002</td>\n",
       "    </tr>\n",
       "    <tr>\n",
       "      <th>education</th>\n",
       "      <td>0.002</td>\n",
       "    </tr>\n",
       "    <tr>\n",
       "      <th>marital-status</th>\n",
       "      <td>0.002</td>\n",
       "    </tr>\n",
       "    <tr>\n",
       "      <th>native-country</th>\n",
       "      <td>0.001</td>\n",
       "    </tr>\n",
       "    <tr>\n",
       "      <th>race</th>\n",
       "      <td>0.000</td>\n",
       "    </tr>\n",
       "    <tr>\n",
       "      <th>sex</th>\n",
       "      <td>0.000</td>\n",
       "    </tr>\n",
       "  </tbody>\n",
       "</table>\n",
       "</div>"
      ],
      "text/plain": [
       "                importance\n",
       "feature                   \n",
       "relationship         0.391\n",
       "education-num        0.219\n",
       "capital-gain         0.217\n",
       "capital-loss         0.060\n",
       "age                  0.046\n",
       "hours-per-week       0.039\n",
       "occupation           0.012\n",
       "fnlwgt               0.009\n",
       "workclass            0.002\n",
       "education            0.002\n",
       "marital-status       0.002\n",
       "native-country       0.001\n",
       "race                 0.000\n",
       "sex                  0.000"
      ]
     },
     "execution_count": 80,
     "metadata": {
      "tags": []
     },
     "output_type": "execute_result"
    }
   ],
   "source": [
    "importances_ht_all = pd.DataFrame({'feature':X_all_train.columns,'importance':np.round(decision_tree_ht_all_args.feature_importances_,3)})\n",
    "importances_ht_all = importances_ht_all.sort_values('importance',ascending=False).set_index('feature')\n",
    "importances_ht_all.head(15)"
   ]
  },
  {
   "cell_type": "markdown",
   "metadata": {
    "id": "92erQuWCX1pg"
   },
   "source": [
    "**Outcome:** \n",
    "\n",
    "Clear that over fine tuning that capital gain takes the lead as the most important feature. This can be seen in the graph plots as a high number of those in the <=50K having 0 capital gain. Compared to those of >50K that have a lower proportion around zero. "
   ]
  },
  {
   "cell_type": "markdown",
   "metadata": {
    "id": "r5JJX-gvYNk0"
   },
   "source": [
    "In all the model tests it is also clear that the <=50K category has a higher precision and recall due to the imbalance of the category having significantly more data points than that >50K. \n",
    "\n",
    "**The next test will aim to equalise this playing field.**"
   ]
  },
  {
   "cell_type": "markdown",
   "metadata": {
    "id": "-YKm9jxSZv7q"
   },
   "source": [
    "## Balancing Dataset <a class=\"anchor\" id=\"chapter3\"></a>\n",
    "\n",
    "With the observed skew in the dataset towards those with <=50K being the majority cateory, we are going to see how removing the imbalance effects predictions.\n",
    "\n",
    "The approach was to randomly sample from the majority class to even the categories. This was seen as the simplest approach but affects the size of the dataset. Another option would have been to upsample the minority category.\n"
   ]
  },
  {
   "cell_type": "markdown",
   "metadata": {
    "id": "wKlJ7gJmfUGZ"
   },
   "source": [
    "### Data Pre-Processing & Analysis <a class=\"anchor\" id=\"section_3_1\"></a>"
   ]
  },
  {
   "cell_type": "code",
   "execution_count": null,
   "metadata": {
    "id": "oZYRX7zaZujL"
   },
   "outputs": [],
   "source": [
    "train_data = pd.read_csv('adult.data', sep=\",\", header=None, skipinitialspace=True)\n",
    "test_data = pd.read_csv('adult.test', sep=\",\", skiprows=1, header=None, skipinitialspace=True)\n",
    "\n",
    "column_headers = ['age', 'workclass', 'fnlwgt', 'education', 'education-num', 'marital-status', 'occupation', 'relationship', 'race', \n",
    "'sex', 'capital-gain', 'capital-loss', 'hours-per-week', 'native-country', 'earnings']\n",
    "\n",
    "\n",
    "train_data.columns = column_headers\n",
    "test_data.columns = column_headers\n",
    "\n",
    "test_data.earnings.replace({\"<=50K.\": \"<=50K\", \">50K.\": \">50K\"}, inplace=True)\n"
   ]
  },
  {
   "cell_type": "code",
   "execution_count": null,
   "metadata": {
    "colab": {
     "base_uri": "https://localhost:8080/",
     "height": 343
    },
    "id": "vVXVMK0qaO7I",
    "outputId": "ad35d238-933e-4fba-d447-77924d8ba426"
   },
   "outputs": [
    {
     "data": {
      "text/html": [
       "<div>\n",
       "<style scoped>\n",
       "    .dataframe tbody tr th:only-of-type {\n",
       "        vertical-align: middle;\n",
       "    }\n",
       "\n",
       "    .dataframe tbody tr th {\n",
       "        vertical-align: top;\n",
       "    }\n",
       "\n",
       "    .dataframe thead th {\n",
       "        text-align: right;\n",
       "    }\n",
       "</style>\n",
       "<table border=\"1\" class=\"dataframe\">\n",
       "  <thead>\n",
       "    <tr style=\"text-align: right;\">\n",
       "      <th></th>\n",
       "      <th>age</th>\n",
       "      <th>workclass</th>\n",
       "      <th>fnlwgt</th>\n",
       "      <th>education</th>\n",
       "      <th>education-num</th>\n",
       "      <th>marital-status</th>\n",
       "      <th>occupation</th>\n",
       "      <th>relationship</th>\n",
       "      <th>race</th>\n",
       "      <th>sex</th>\n",
       "      <th>capital-gain</th>\n",
       "      <th>capital-loss</th>\n",
       "      <th>hours-per-week</th>\n",
       "      <th>native-country</th>\n",
       "      <th>earnings</th>\n",
       "    </tr>\n",
       "  </thead>\n",
       "  <tbody>\n",
       "    <tr>\n",
       "      <th>0</th>\n",
       "      <td>39</td>\n",
       "      <td>State-gov</td>\n",
       "      <td>77516</td>\n",
       "      <td>Bachelors</td>\n",
       "      <td>13</td>\n",
       "      <td>Never-married</td>\n",
       "      <td>Adm-clerical</td>\n",
       "      <td>Not-in-family</td>\n",
       "      <td>White</td>\n",
       "      <td>Male</td>\n",
       "      <td>2174</td>\n",
       "      <td>0</td>\n",
       "      <td>40</td>\n",
       "      <td>United-States</td>\n",
       "      <td>&lt;=50K</td>\n",
       "    </tr>\n",
       "    <tr>\n",
       "      <th>1</th>\n",
       "      <td>50</td>\n",
       "      <td>Self-emp-not-inc</td>\n",
       "      <td>83311</td>\n",
       "      <td>Bachelors</td>\n",
       "      <td>13</td>\n",
       "      <td>Married-civ-spouse</td>\n",
       "      <td>Exec-managerial</td>\n",
       "      <td>Husband</td>\n",
       "      <td>White</td>\n",
       "      <td>Male</td>\n",
       "      <td>0</td>\n",
       "      <td>0</td>\n",
       "      <td>13</td>\n",
       "      <td>United-States</td>\n",
       "      <td>&lt;=50K</td>\n",
       "    </tr>\n",
       "    <tr>\n",
       "      <th>2</th>\n",
       "      <td>38</td>\n",
       "      <td>Private</td>\n",
       "      <td>215646</td>\n",
       "      <td>HS-grad</td>\n",
       "      <td>9</td>\n",
       "      <td>Divorced</td>\n",
       "      <td>Handlers-cleaners</td>\n",
       "      <td>Not-in-family</td>\n",
       "      <td>White</td>\n",
       "      <td>Male</td>\n",
       "      <td>0</td>\n",
       "      <td>0</td>\n",
       "      <td>40</td>\n",
       "      <td>United-States</td>\n",
       "      <td>&lt;=50K</td>\n",
       "    </tr>\n",
       "    <tr>\n",
       "      <th>3</th>\n",
       "      <td>53</td>\n",
       "      <td>Private</td>\n",
       "      <td>234721</td>\n",
       "      <td>11th</td>\n",
       "      <td>7</td>\n",
       "      <td>Married-civ-spouse</td>\n",
       "      <td>Handlers-cleaners</td>\n",
       "      <td>Husband</td>\n",
       "      <td>Black</td>\n",
       "      <td>Male</td>\n",
       "      <td>0</td>\n",
       "      <td>0</td>\n",
       "      <td>40</td>\n",
       "      <td>United-States</td>\n",
       "      <td>&lt;=50K</td>\n",
       "    </tr>\n",
       "    <tr>\n",
       "      <th>4</th>\n",
       "      <td>28</td>\n",
       "      <td>Private</td>\n",
       "      <td>338409</td>\n",
       "      <td>Bachelors</td>\n",
       "      <td>13</td>\n",
       "      <td>Married-civ-spouse</td>\n",
       "      <td>Prof-specialty</td>\n",
       "      <td>Wife</td>\n",
       "      <td>Black</td>\n",
       "      <td>Female</td>\n",
       "      <td>0</td>\n",
       "      <td>0</td>\n",
       "      <td>40</td>\n",
       "      <td>Cuba</td>\n",
       "      <td>&lt;=50K</td>\n",
       "    </tr>\n",
       "  </tbody>\n",
       "</table>\n",
       "</div>"
      ],
      "text/plain": [
       "   age         workclass  fnlwgt  ... hours-per-week  native-country earnings\n",
       "0   39         State-gov   77516  ...             40   United-States    <=50K\n",
       "1   50  Self-emp-not-inc   83311  ...             13   United-States    <=50K\n",
       "2   38           Private  215646  ...             40   United-States    <=50K\n",
       "3   53           Private  234721  ...             40   United-States    <=50K\n",
       "4   28           Private  338409  ...             40            Cuba    <=50K\n",
       "\n",
       "[5 rows x 15 columns]"
      ]
     },
     "execution_count": 166,
     "metadata": {
      "tags": []
     },
     "output_type": "execute_result"
    }
   ],
   "source": [
    "# analyse data split of >50K and <=50K\n",
    "train_data.head()"
   ]
  },
  {
   "cell_type": "code",
   "execution_count": null,
   "metadata": {
    "colab": {
     "base_uri": "https://localhost:8080/"
    },
    "id": "IzaSRYWpachm",
    "outputId": "c186ff8b-ffbf-4557-d968-24d202d2ae8d"
   },
   "outputs": [
    {
     "name": "stdout",
     "output_type": "stream",
     "text": [
      "Train Data count:             age  workclass  ...  hours-per-week  native-country\n",
      "earnings                    ...                                \n",
      "<=50K     24720      24720  ...           24720           24720\n",
      ">50K       7841       7841  ...            7841            7841\n",
      "\n",
      "[2 rows x 14 columns]\n",
      "Test Data count:             age  workclass  ...  hours-per-week  native-country\n",
      "earnings                    ...                                \n",
      "<=50K     12435      12435  ...           12435           12435\n",
      ">50K       3846       3846  ...            3846            3846\n",
      "\n",
      "[2 rows x 14 columns]\n"
     ]
    }
   ],
   "source": [
    "print(\"Train Data count:\", train_data.groupby('earnings').count())\n",
    "print(\"Test Data count:\", test_data.groupby('earnings').count())"
   ]
  },
  {
   "cell_type": "code",
   "execution_count": null,
   "metadata": {
    "id": "Q9cdZzujamNm"
   },
   "outputs": [],
   "source": [
    "def even_and_shuffle_data(df):\n",
    "    \n",
    "    \"\"\" Function to sample the dataset and even out over the two categories\n",
    "    \n",
    "    Inputs:\n",
    "    \n",
    "        df (Pandas DataFrame):\n",
    "            Full original dataframe\n",
    "    \n",
    "    Returns:\n",
    "        \n",
    "        even_df (Pandas DataFrame):\n",
    "            Sampled dataframe of even classses\n",
    "    \n",
    "    \"\"\"\n",
    "    df_greater = df.loc[df['earnings'] == '<=50K']\n",
    "    df_lessthan = df.loc[df['earnings'] == '>50K']\n",
    "\n",
    "    greater_sample = df_greater.sample(len(df_lessthan))\n",
    "\n",
    "    even_df = greater_sample.append(df_lessthan, ignore_index=True)\n",
    "    \n",
    "    # shuffle the data back into random order\n",
    "    even_df = shuffle(even_df)\n",
    "    even_df = even_df.reset_index(drop=True)\n",
    "\n",
    "    return even_df"
   ]
  },
  {
   "cell_type": "markdown",
   "metadata": {},
   "source": [
    "###### Perform skew correction on both the train and test data \n"
   ]
  },
  {
   "cell_type": "code",
   "execution_count": null,
   "metadata": {
    "id": "dgLXXm1ccdf-"
   },
   "outputs": [],
   "source": [
    "new_train = even_and_shuffle_data(train_data)\n",
    "new_test =  even_and_shuffle_data(test_data)"
   ]
  },
  {
   "cell_type": "markdown",
   "metadata": {},
   "source": [
    "##### Remove the protected attributes and split the training data "
   ]
  },
  {
   "cell_type": "code",
   "execution_count": null,
   "metadata": {
    "id": "Q-C9nXAHd1uU"
   },
   "outputs": [],
   "source": [
    "even_features = new_train.drop(['earnings','marital-status', 'relationship', 'race', 'sex', 'native-country'], True)\n",
    "even_targets = new_train['earnings']"
   ]
  },
  {
   "cell_type": "code",
   "execution_count": null,
   "metadata": {
    "id": "bFzNhfXKePt-"
   },
   "outputs": [],
   "source": [
    "# Split the data with 20% held out for testing \n",
    "\n",
    "X_train, X_test, Y_train, Y_test = train_test_split(even_features, even_targets, test_size = 0.2, random_state = 30)"
   ]
  },
  {
   "cell_type": "markdown",
   "metadata": {},
   "source": [
    "##### Encode the categorical columns with LabelEncoder and scale the values to a normal range\n"
   ]
  },
  {
   "cell_type": "code",
   "execution_count": null,
   "metadata": {
    "colab": {
     "base_uri": "https://localhost:8080/"
    },
    "id": "IoXwFKCse4iB",
    "outputId": "ab0f891e-e464-4be4-dd13-18a96a9f9f1c",
    "scrolled": true
   },
   "outputs": [
    {
     "name": "stderr",
     "output_type": "stream",
     "text": [
      "/usr/local/lib/python3.6/dist-packages/pandas/core/generic.py:5170: SettingWithCopyWarning: \n",
      "A value is trying to be set on a copy of a slice from a DataFrame.\n",
      "Try using .loc[row_indexer,col_indexer] = value instead\n",
      "\n",
      "See the caveats in the documentation: https://pandas.pydata.org/pandas-docs/stable/user_guide/indexing.html#returning-a-view-versus-a-copy\n",
      "  self[name] = value\n"
     ]
    }
   ],
   "source": [
    "le = LabelEncoder()\n",
    "\n",
    "X_train.workclass= le.fit_transform(X_train.workclass.values)\n",
    "X_train.education= le.fit_transform(X_train.education.values)\n",
    "X_train.occupation= le.fit_transform(X_train.occupation.values)\n",
    "\n",
    "X_test.workclass= le.fit_transform(X_test.workclass.values)\n",
    "X_test.education= le.fit_transform(X_test.education.values)\n",
    "X_test.occupation= le.fit_transform(X_test.occupation.values)\n"
   ]
  },
  {
   "cell_type": "code",
   "execution_count": null,
   "metadata": {},
   "outputs": [],
   "source": [
    "# Normalise the dataset \n",
    "\n",
    "scaler = StandardScaler()\n",
    "\n",
    "X_train = pd.DataFrame(scaler.fit_transform(X_train), columns = X_train.columns)\n",
    "\n",
    "X_test = pd.DataFrame(scaler.transform(X_test), columns = X_test.columns)"
   ]
  },
  {
   "cell_type": "markdown",
   "metadata": {
    "id": "FYT_MeSKfNaL"
   },
   "source": [
    "### Decision Tree - without  hypertuning <a class=\"anchor\" id=\"section_3_2\"></a>"
   ]
  },
  {
   "cell_type": "code",
   "execution_count": null,
   "metadata": {
    "id": "Yk_wftrjfP4i"
   },
   "outputs": [],
   "source": [
    "# Create the Decision Tree, fit and predict on the test set\n",
    "\n",
    "decision_tree = DecisionTreeClassifier()\n",
    "\n",
    "decision_tree.fit(X_train, Y_train)\n",
    "\n",
    "Y_pred = decision_tree.predict(X_test)"
   ]
  },
  {
   "cell_type": "code",
   "execution_count": null,
   "metadata": {
    "colab": {
     "base_uri": "https://localhost:8080/"
    },
    "id": "oyK4idUDfaSD",
    "outputId": "475a53db-ee63-429d-de22-c50b565da8ab"
   },
   "outputs": [
    {
     "name": "stdout",
     "output_type": "stream",
     "text": [
      "Accuracy on Test Set: 70.38571883965572%\n",
      "[[1091  489]\n",
      " [ 440 1117]]\n",
      "              precision    recall  f1-score   support\n",
      "\n",
      "       <=50K       0.71      0.69      0.70      1580\n",
      "        >50K       0.70      0.72      0.71      1557\n",
      "\n",
      "    accuracy                           0.70      3137\n",
      "   macro avg       0.70      0.70      0.70      3137\n",
      "weighted avg       0.70      0.70      0.70      3137\n",
      "\n"
     ]
    }
   ],
   "source": [
    "print(\"Accuracy on Test Set: %s%%\" % (100*accuracy_score(Y_test, Y_pred)))\n",
    "print(confusion_matrix(Y_test, Y_pred))\n",
    "print(classification_report(Y_test, Y_pred))"
   ]
  },
  {
   "cell_type": "markdown",
   "metadata": {
    "id": "n-C72HCwf1AF"
   },
   "source": [
    "**Outcome:** Clear reduction in the accuracy compared to above however, the model is more even over the two categories."
   ]
  },
  {
   "cell_type": "markdown",
   "metadata": {
    "id": "8yjqnI_mf6Af"
   },
   "source": [
    "### HyperTune Decision Tree <a class=\"anchor\" id=\"section_3_3\"></a>\n",
    "\n",
    "This is the same method as above using Grid Search and fitting the model on the best Hparams from the Grid Search."
   ]
  },
  {
   "cell_type": "code",
   "execution_count": null,
   "metadata": {
    "id": "rHSqKN0RfeAL"
   },
   "outputs": [],
   "source": [
    "# Create decision tree, create pipeline for tuning and specify Hparameters to search\n",
    "\n",
    "decision_tree_tuned = DecisionTreeClassifier()\n",
    "\n",
    "pipe = Pipeline(steps=[('dec_tree', decision_tree_tuned)])\n",
    "\n",
    "# parameters to search - leaf nodes was added to analyse affect \n",
    "\n",
    "criterion = ['gini', 'entropy']\n",
    "max_depth = [2,4,6,8,10,12]\n",
    "max_leaf_nodes = [2,4,6,8,10,12]\n",
    "\n",
    "parameters = dict(dec_tree__criterion=criterion,\n",
    "                  dec_tree__max_depth=max_depth,\n",
    "                  dec_tree__max_leaf_nodes=max_leaf_nodes)"
   ]
  },
  {
   "cell_type": "code",
   "execution_count": null,
   "metadata": {
    "colab": {
     "base_uri": "https://localhost:8080/"
    },
    "id": "rRC5OMjHgUWd",
    "outputId": "aa181956-ac0b-490b-b09a-5e6a33f1bb8b"
   },
   "outputs": [
    {
     "name": "stdout",
     "output_type": "stream",
     "text": [
      "Best Criterion: gini\n",
      "Best max_depth: 8\n",
      "Best max_leaf_nodes: 12\n",
      "DecisionTreeClassifier(ccp_alpha=0.0, class_weight=None, criterion='gini',\n",
      "                       max_depth=8, max_features=None, max_leaf_nodes=12,\n",
      "                       min_impurity_decrease=0.0, min_impurity_split=None,\n",
      "                       min_samples_leaf=1, min_samples_split=2,\n",
      "                       min_weight_fraction_leaf=0.0, presort='deprecated',\n",
      "                       random_state=None, splitter='best')\n"
     ]
    }
   ],
   "source": [
    "# Create Grid Search \n",
    "clf_GS = GridSearchCV(pipe, parameters)\n",
    "\n",
    "# Fitting the grid search\n",
    "clf_GS.fit(X_train, Y_train)\n",
    "\n",
    "# Viewing The Best Parameters\n",
    "print('Best Criterion:', clf_GS.best_estimator_.get_params()['dec_tree__criterion'])\n",
    "print('Best max_depth:', clf_GS.best_estimator_.get_params()['dec_tree__max_depth'])\n",
    "print('Best max_leaf_nodes:', clf_GS.best_estimator_.get_params()['dec_tree__max_leaf_nodes'])\n",
    "\n",
    "print(clf_GS.best_estimator_.get_params()['dec_tree'])\n",
    "\n",
    "  "
   ]
  },
  {
   "cell_type": "markdown",
   "metadata": {
    "id": "XKMcSMckgvt3"
   },
   "source": [
    "### Decision Tree - with hyperparamters <a class=\"anchor\" id=\"section_3_4\"></a>"
   ]
  },
  {
   "cell_type": "code",
   "execution_count": null,
   "metadata": {
    "id": "LdHfNAp4jKmI"
   },
   "outputs": [],
   "source": [
    "# Create Decision Tree\n",
    "decision_tree_params = DecisionTreeClassifier(max_depth = 8, max_leaf_nodes = 12)\n"
   ]
  },
  {
   "cell_type": "code",
   "execution_count": null,
   "metadata": {
    "colab": {
     "base_uri": "https://localhost:8080/"
    },
    "id": "ndohOlg-g8PX",
    "outputId": "85a46235-32da-418b-d8c5-ada6661d6b98"
   },
   "outputs": [
    {
     "data": {
      "text/plain": [
       "DecisionTreeClassifier(ccp_alpha=0.0, class_weight=None, criterion='gini',\n",
       "                       max_depth=8, max_features=None, max_leaf_nodes=12,\n",
       "                       min_impurity_decrease=0.0, min_impurity_split=None,\n",
       "                       min_samples_leaf=1, min_samples_split=2,\n",
       "                       min_weight_fraction_leaf=0.0, presort='deprecated',\n",
       "                       random_state=None, splitter='best')"
      ]
     },
     "execution_count": 179,
     "metadata": {
      "tags": []
     },
     "output_type": "execute_result"
    }
   ],
   "source": [
    "# Fit the model \n",
    "decision_tree_params.fit(X_train, Y_train)\n"
   ]
  },
  {
   "cell_type": "markdown",
   "metadata": {
    "id": "qx_5xkVoAYgr"
   },
   "source": [
    "### Test Set Metrics"
   ]
  },
  {
   "cell_type": "code",
   "execution_count": null,
   "metadata": {
    "id": "KLc82e-aAXd9"
   },
   "outputs": [],
   "source": [
    "# Predict with the test data \n",
    "\n",
    "Y_pred = decision_tree_params.predict(X_test)"
   ]
  },
  {
   "cell_type": "code",
   "execution_count": null,
   "metadata": {
    "colab": {
     "base_uri": "https://localhost:8080/"
    },
    "id": "Qz7gqT8VhApY",
    "outputId": "bb38be48-15ba-4d28-97a0-baf3f9e779d9"
   },
   "outputs": [
    {
     "name": "stdout",
     "output_type": "stream",
     "text": [
      "Accuracy on Test Set: 75.70927637870577%\n",
      "[[1044  536]\n",
      " [ 226 1331]]\n",
      "              precision    recall  f1-score   support\n",
      "\n",
      "       <=50K       0.82      0.66      0.73      1580\n",
      "        >50K       0.71      0.85      0.78      1557\n",
      "\n",
      "    accuracy                           0.76      3137\n",
      "   macro avg       0.77      0.76      0.76      3137\n",
      "weighted avg       0.77      0.76      0.75      3137\n",
      "\n"
     ]
    }
   ],
   "source": [
    "print(\"Accuracy on Test Set: %s%%\" % (100*accuracy_score(Y_test, Y_pred)))\n",
    "print(confusion_matrix(Y_test, Y_pred))\n",
    "print(classification_report(Y_test, Y_pred))"
   ]
  },
  {
   "cell_type": "markdown",
   "metadata": {},
   "source": [
    "**Outcome:** Clear improvement in the both the accuracy and F1-Scores compared to above and the better split over the two categories is maintained."
   ]
  },
  {
   "cell_type": "markdown",
   "metadata": {
    "id": "p17Gk9-wAjo-"
   },
   "source": [
    "### Importance of Features\n",
    "\n",
    "**Outcome:** Can see that only 5 features in this model had an impact."
   ]
  },
  {
   "cell_type": "code",
   "execution_count": null,
   "metadata": {
    "colab": {
     "base_uri": "https://localhost:8080/",
     "height": 359
    },
    "id": "9op-sJF80iDk",
    "outputId": "fccaf628-a452-41fa-e5b8-48509a29a9db"
   },
   "outputs": [
    {
     "data": {
      "text/html": [
       "<div>\n",
       "<style scoped>\n",
       "    .dataframe tbody tr th:only-of-type {\n",
       "        vertical-align: middle;\n",
       "    }\n",
       "\n",
       "    .dataframe tbody tr th {\n",
       "        vertical-align: top;\n",
       "    }\n",
       "\n",
       "    .dataframe thead th {\n",
       "        text-align: right;\n",
       "    }\n",
       "</style>\n",
       "<table border=\"1\" class=\"dataframe\">\n",
       "  <thead>\n",
       "    <tr style=\"text-align: right;\">\n",
       "      <th></th>\n",
       "      <th>importance</th>\n",
       "    </tr>\n",
       "    <tr>\n",
       "      <th>feature</th>\n",
       "      <th></th>\n",
       "    </tr>\n",
       "  </thead>\n",
       "  <tbody>\n",
       "    <tr>\n",
       "      <th>age</th>\n",
       "      <td>0.435</td>\n",
       "    </tr>\n",
       "    <tr>\n",
       "      <th>education-num</th>\n",
       "      <td>0.293</td>\n",
       "    </tr>\n",
       "    <tr>\n",
       "      <th>capital-gain</th>\n",
       "      <td>0.191</td>\n",
       "    </tr>\n",
       "    <tr>\n",
       "      <th>hours-per-week</th>\n",
       "      <td>0.054</td>\n",
       "    </tr>\n",
       "    <tr>\n",
       "      <th>capital-loss</th>\n",
       "      <td>0.027</td>\n",
       "    </tr>\n",
       "    <tr>\n",
       "      <th>workclass</th>\n",
       "      <td>0.000</td>\n",
       "    </tr>\n",
       "    <tr>\n",
       "      <th>fnlwgt</th>\n",
       "      <td>0.000</td>\n",
       "    </tr>\n",
       "    <tr>\n",
       "      <th>education</th>\n",
       "      <td>0.000</td>\n",
       "    </tr>\n",
       "    <tr>\n",
       "      <th>occupation</th>\n",
       "      <td>0.000</td>\n",
       "    </tr>\n",
       "  </tbody>\n",
       "</table>\n",
       "</div>"
      ],
      "text/plain": [
       "                importance\n",
       "feature                   \n",
       "age                  0.435\n",
       "education-num        0.293\n",
       "capital-gain         0.191\n",
       "hours-per-week       0.054\n",
       "capital-loss         0.027\n",
       "workclass            0.000\n",
       "fnlwgt               0.000\n",
       "education            0.000\n",
       "occupation           0.000"
      ]
     },
     "execution_count": 182,
     "metadata": {
      "tags": []
     },
     "output_type": "execute_result"
    }
   ],
   "source": [
    "importances = pd.DataFrame({'feature':X_train.columns,'importance':np.round(decision_tree_params.feature_importances_,3)})\n",
    "importances = importances.sort_values('importance',ascending=False).set_index('feature')\n",
    "importances.head(15)"
   ]
  },
  {
   "cell_type": "markdown",
   "metadata": {
    "id": "CDwbasW1YkZl"
   },
   "source": [
    "### Test Tuned Decision Tree on Unseen Data"
   ]
  },
  {
   "cell_type": "code",
   "execution_count": null,
   "metadata": {},
   "outputs": [],
   "source": [
    "# Prepare the unseen data \n",
    "\n",
    "new_test_targets = new_test['earnings']\n",
    "new_test_us = new_test.copy()\n",
    "new_test_us = new_test_us.drop(['earnings','marital-status', 'relationship', 'race', 'sex', 'native-country'], True)\n"
   ]
  },
  {
   "cell_type": "markdown",
   "metadata": {},
   "source": [
    "##### Encode the categorical columns with LabelEncoder and scale the values to a normal range"
   ]
  },
  {
   "cell_type": "code",
   "execution_count": null,
   "metadata": {
    "id": "IooeUpoXgX9S"
   },
   "outputs": [],
   "source": [
    "le = LabelEncoder()\n",
    "\n",
    "new_test_us.workclass= le.fit_transform(new_test_us.workclass.values)\n",
    "new_test_us.education= le.fit_transform(new_test_us.education.values)\n",
    "new_test_us.occupation= le.fit_transform(new_test_us.occupation.values)\n",
    "\n",
    "# Normalise the dataset \n",
    "\n",
    "scaler = StandardScaler()\n",
    "\n",
    "new_test_us = pd.DataFrame(scaler.fit_transform(new_test_us), columns = new_test_us.columns)"
   ]
  },
  {
   "cell_type": "code",
   "execution_count": null,
   "metadata": {},
   "outputs": [],
   "source": [
    "# Predict on the unseen data\n",
    "new_Y_pred = decision_tree_params.predict(new_test_us)"
   ]
  },
  {
   "cell_type": "code",
   "execution_count": null,
   "metadata": {
    "colab": {
     "base_uri": "https://localhost:8080/"
    },
    "id": "2Xz1Z7mqYd5A",
    "outputId": "a5bfb3ce-775e-4365-80f0-889c301fba05"
   },
   "outputs": [
    {
     "name": "stdout",
     "output_type": "stream",
     "text": [
      "Accuracy on Test Set: 74.14196567862714%\n",
      "[[2469 1377]\n",
      " [ 612 3234]]\n",
      "              precision    recall  f1-score   support\n",
      "\n",
      "       <=50K       0.80      0.64      0.71      3846\n",
      "        >50K       0.70      0.84      0.76      3846\n",
      "\n",
      "    accuracy                           0.74      7692\n",
      "   macro avg       0.75      0.74      0.74      7692\n",
      "weighted avg       0.75      0.74      0.74      7692\n",
      "\n"
     ]
    }
   ],
   "source": [
    "print(\"Accuracy on Test Set: %s%%\" % (100*accuracy_score(new_test_targets, new_Y_pred)))\n",
    "print(confusion_matrix(new_test_targets, new_Y_pred))\n",
    "print(classification_report(new_test_targets, new_Y_pred))\n",
    "\n",
    "pred_unseen_test = new_test_us.copy()\n",
    "pred_unseen_test['Y_True'] = new_test_targets\n",
    "pred_unseen_test[\"Y_Pred\"] = new_Y_pred"
   ]
  },
  {
   "cell_type": "markdown",
   "metadata": {},
   "source": [
    "**Outcome:** Clear decrease in the performance on the unseen data, however the accuracy and F1-Scores did not vary too much meaning the Decision Tree is capable of handling unseen data and has not been overfitted to the training data."
   ]
  },
  {
   "cell_type": "markdown",
   "metadata": {
    "id": "MslKeT2onlDz"
   },
   "source": [
    "# Analysis of Fairness  <a class=\"anchor\" id=\"chapter_4\"></a>"
   ]
  },
  {
   "cell_type": "markdown",
   "metadata": {
    "id": "tL32ADWPqpyW"
   },
   "source": [
    "To analyse whether the model is fair we create a dataframe with model test data and prediction of class to test the fairness of the model  "
   ]
  },
  {
   "cell_type": "code",
   "execution_count": null,
   "metadata": {
    "id": "4ct4oqWlVtXl"
   },
   "outputs": [],
   "source": [
    "full_testing = new_test_us.copy()\n",
    "full_testing[\"Y_Pred\"] = new_Y_pred\n",
    "full_testing[\"Y_True\"] = new_test_targets\n"
   ]
  },
  {
   "cell_type": "markdown",
   "metadata": {
    "id": "uJvtcZIsb4Tl"
   },
   "source": [
    "## Similar outcomes for similar individuals <a class=\"anchor\" id=\"section_4_1\"></a>\n",
    "\n",
    "This check is to ensure that similar people within the data are given the same predictive outcome."
   ]
  },
  {
   "cell_type": "code",
   "execution_count": null,
   "metadata": {
    "id": "KWUIzG-CX7B9"
   },
   "outputs": [],
   "source": [
    "# Create subset dataframes for over and under 50K \n",
    "\n",
    "over_50 = full_testing.copy()\n",
    "over_50.drop(over_50.loc[over_50['Y_True']==\"<=50K\"].index, inplace=True)\n",
    "\n",
    "under_50 = full_testing.copy()\n",
    "under_50.drop(under_50.loc[under_50['Y_True']==\">50K\"].index, inplace=True)"
   ]
  },
  {
   "cell_type": "code",
   "execution_count": null,
   "metadata": {},
   "outputs": [],
   "source": [
    "# Create blank dataframe to hold results \n",
    "\n",
    "corr_over_50 = pd.DataFrame(columns=[\"pair1\", \"pair2\", \"outcome1\", \"outcome2\", \"similarity\", \"match\"])\n"
   ]
  },
  {
   "cell_type": "code",
   "execution_count": null,
   "metadata": {
    "id": "LNkdLFQ8V_np"
   },
   "outputs": [],
   "source": [
    "# check similarity between rows, add to list and check if outcomes matched (0 if not 1 if did)\n",
    "pair1 = []\n",
    "pair2 = []\n",
    "outcome1 = []\n",
    "outcome2 = []\n",
    "\n",
    "over_50_lst = over_50[[\"age\", \"workclass\", \"fnlwgt\", \"education\", \"education-num\", \"occupation\", \"capital-gain\", \"capital-loss\", \n",
    "                       \"hours-per-week\"]].to_numpy().tolist()\n",
    "Y_pred_col = over_50[\"Y_Pred\"].values\n",
    "\n",
    "for index, element in enumerate(over_50_lst):\n",
    "    if index % 2 == 0:\n",
    "        pair1.append(element)\n",
    "        outcome1.append(Y_pred_col[index])\n",
    "    else:\n",
    "        pair2.append(element)\n",
    "        outcome2.append(Y_pred_col[index])\n",
    "\n",
    "\n",
    "if(len(pair1) != len(pair2)):\n",
    "    pair2.append(over_50_lst[0])\n",
    "    outcome2.append(Y_pred_col[0])"
   ]
  },
  {
   "cell_type": "code",
   "execution_count": null,
   "metadata": {
    "id": "MW3_DQmedRTq"
   },
   "outputs": [],
   "source": [
    "# Populate DataFrame with Results\n",
    "\n",
    "corr_over_50.pair1 = pair1\n",
    "corr_over_50.pair2 = pair2\n",
    "corr_over_50.outcome1 = outcome1\n",
    "corr_over_50.outcome2 = outcome2"
   ]
  },
  {
   "cell_type": "code",
   "execution_count": null,
   "metadata": {
    "id": "DqkRR0_MdgiC"
   },
   "outputs": [],
   "source": [
    "# Measure the Cosine Similarity of the pairs\n",
    "\n",
    "corr_over_50['similarity'] = corr_over_50.apply(lambda row: 1 - cosine(row['pair1'], row['pair2']), axis=1)\n"
   ]
  },
  {
   "cell_type": "code",
   "execution_count": null,
   "metadata": {
    "id": "GhMqCTmddgvU"
   },
   "outputs": [],
   "source": [
    "for i, row in corr_over_50.iterrows():\n",
    "    if row.outcome1 == row.outcome2:\n",
    "        corr_over_50.loc[i,'match'] = 1\n",
    "\n",
    "    else:\n",
    "        corr_over_50.loc[i,'match'] = 0"
   ]
  },
  {
   "cell_type": "code",
   "execution_count": null,
   "metadata": {
    "colab": {
     "base_uri": "https://localhost:8080/",
     "height": 111
    },
    "id": "D0dRy3zBgRr8",
    "outputId": "5e42b6f1-ef62-44ae-d77a-8982190abb52"
   },
   "outputs": [
    {
     "data": {
      "text/html": [
       "<div>\n",
       "<style scoped>\n",
       "    .dataframe tbody tr th:only-of-type {\n",
       "        vertical-align: middle;\n",
       "    }\n",
       "\n",
       "    .dataframe tbody tr th {\n",
       "        vertical-align: top;\n",
       "    }\n",
       "\n",
       "    .dataframe thead th {\n",
       "        text-align: right;\n",
       "    }\n",
       "</style>\n",
       "<table border=\"1\" class=\"dataframe\">\n",
       "  <thead>\n",
       "    <tr style=\"text-align: right;\">\n",
       "      <th></th>\n",
       "      <th>similarity</th>\n",
       "      <th>match</th>\n",
       "    </tr>\n",
       "  </thead>\n",
       "  <tbody>\n",
       "    <tr>\n",
       "      <th>similarity</th>\n",
       "      <td>1.00000</td>\n",
       "      <td>0.11335</td>\n",
       "    </tr>\n",
       "    <tr>\n",
       "      <th>match</th>\n",
       "      <td>0.11335</td>\n",
       "      <td>1.00000</td>\n",
       "    </tr>\n",
       "  </tbody>\n",
       "</table>\n",
       "</div>"
      ],
      "text/plain": [
       "            similarity    match\n",
       "similarity     1.00000  0.11335\n",
       "match          0.11335  1.00000"
      ]
     },
     "execution_count": 191,
     "metadata": {
      "tags": []
     },
     "output_type": "execute_result"
    }
   ],
   "source": [
    "corr_over_50.match = corr_over_50.match.astype(int)\n",
    "\n",
    "corr_over_50.corr() "
   ]
  },
  {
   "cell_type": "code",
   "execution_count": null,
   "metadata": {
    "colab": {
     "base_uri": "https://localhost:8080/",
     "height": 397
    },
    "id": "0-rtDYNniIEl",
    "outputId": "4f5db37f-a987-43c0-9c02-3b06787bc402"
   },
   "outputs": [
    {
     "data": {
      "image/png": "[encoded data removed]",
      "text/plain": [
       "<Figure size 720x432 with 1 Axes>"
      ]
     },
     "metadata": {
      "tags": []
     },
     "output_type": "display_data"
    }
   ],
   "source": [
    "fig = plt.figure(figsize=(10,6))\n",
    "ax = fig.add_subplot(111)\n",
    "\n",
    "ax = sns.countplot(x=\"match\", data=corr_over_50, palette = \"flare\")"
   ]
  },
  {
   "cell_type": "markdown",
   "metadata": {},
   "source": [
    "### Under 50K Measure"
   ]
  },
  {
   "cell_type": "code",
   "execution_count": null,
   "metadata": {},
   "outputs": [],
   "source": [
    "# Create blank dataframe to hold results\n",
    "\n",
    "corr_under_50 = pd.DataFrame(columns=[\"pair1\", \"pair2\", \"outcome1\", \"outcome2\", \"similarity\", \"match\"])\n"
   ]
  },
  {
   "cell_type": "code",
   "execution_count": null,
   "metadata": {
    "id": "Eqerpw7GeHID"
   },
   "outputs": [],
   "source": [
    "# check similarity between rows, add to list and check if outcomes matched (0 if not 1 if did)\n",
    "\n",
    "pair1 = []\n",
    "pair2 = []\n",
    "outcome1 = []\n",
    "outcome2 = []\n",
    "\n",
    "under_50_lst = under_50[[\"age\", \"workclass\", \"fnlwgt\", \"education\", \"education-num\", \"occupation\", \"capital-gain\", \"capital-loss\", \n",
    "                       \"hours-per-week\"]].to_numpy().tolist()\n",
    "Y_pred_col = under_50[\"Y_Pred\"].values\n",
    "\n",
    "for index, element in enumerate(under_50_lst):\n",
    "    if index % 2 == 0:\n",
    "        pair1.append(element)\n",
    "        outcome1.append(Y_pred_col[index])\n",
    "    else:\n",
    "        pair2.append(element)\n",
    "        outcome2.append(Y_pred_col[index])\n",
    "\n",
    "\n",
    "if(len(pair1) != len(pair2)):\n",
    "    pair2.append(under_50_lst[0])\n",
    "    outcome2.append(Y_pred_col[0])"
   ]
  },
  {
   "cell_type": "code",
   "execution_count": null,
   "metadata": {
    "id": "t81PqgLZeVPf"
   },
   "outputs": [],
   "source": [
    "# Populate DataFrame with Results\n",
    "\n",
    "corr_under_50.pair1 = pair1\n",
    "corr_under_50.pair2 = pair2\n",
    "corr_under_50.outcome1 = outcome1\n",
    "corr_under_50.outcome2 = outcome2"
   ]
  },
  {
   "cell_type": "code",
   "execution_count": null,
   "metadata": {
    "id": "hq98rkj5eVZw"
   },
   "outputs": [],
   "source": [
    "# Measure the Cosine Similarity of the pairs\n",
    "\n",
    "corr_under_50['similarity'] = corr_under_50.apply(lambda row: 1 - cosine(row['pair1'], row['pair2']), axis=1)\n",
    "\n",
    "for i, row in corr_under_50.iterrows():\n",
    "    if row.outcome1 == row.outcome2:\n",
    "        corr_under_50.loc[i,'match'] = 1\n",
    "\n",
    "    else:\n",
    "        corr_under_50.loc[i,'match'] = 0"
   ]
  },
  {
   "cell_type": "code",
   "execution_count": null,
   "metadata": {
    "colab": {
     "base_uri": "https://localhost:8080/",
     "height": 111
    },
    "id": "_ypgEYMasI38",
    "outputId": "7c70a001-0070-4d4a-ddaf-fd7e2925f3d6"
   },
   "outputs": [
    {
     "data": {
      "text/html": [
       "<div>\n",
       "<style scoped>\n",
       "    .dataframe tbody tr th:only-of-type {\n",
       "        vertical-align: middle;\n",
       "    }\n",
       "\n",
       "    .dataframe tbody tr th {\n",
       "        vertical-align: top;\n",
       "    }\n",
       "\n",
       "    .dataframe thead th {\n",
       "        text-align: right;\n",
       "    }\n",
       "</style>\n",
       "<table border=\"1\" class=\"dataframe\">\n",
       "  <thead>\n",
       "    <tr style=\"text-align: right;\">\n",
       "      <th></th>\n",
       "      <th>similarity</th>\n",
       "      <th>match</th>\n",
       "    </tr>\n",
       "  </thead>\n",
       "  <tbody>\n",
       "    <tr>\n",
       "      <th>similarity</th>\n",
       "      <td>1.000000</td>\n",
       "      <td>0.203618</td>\n",
       "    </tr>\n",
       "    <tr>\n",
       "      <th>match</th>\n",
       "      <td>0.203618</td>\n",
       "      <td>1.000000</td>\n",
       "    </tr>\n",
       "  </tbody>\n",
       "</table>\n",
       "</div>"
      ],
      "text/plain": [
       "            similarity     match\n",
       "similarity    1.000000  0.203618\n",
       "match         0.203618  1.000000"
      ]
     },
     "execution_count": 196,
     "metadata": {
      "tags": []
     },
     "output_type": "execute_result"
    }
   ],
   "source": [
    "corr_under_50.match = corr_under_50.match.astype(int)\n",
    "\n",
    "corr_under_50.corr() "
   ]
  },
  {
   "cell_type": "code",
   "execution_count": null,
   "metadata": {
    "colab": {
     "base_uri": "https://localhost:8080/",
     "height": 397
    },
    "id": "YfDmpeN5v4z7",
    "outputId": "39437877-adb3-4a50-e420-e88e1684215e"
   },
   "outputs": [
    {
     "data": {
      "image/png": "[encoded data removed]",
      "text/plain": [
       "<Figure size 720x432 with 1 Axes>"
      ]
     },
     "metadata": {
      "tags": []
     },
     "output_type": "display_data"
    }
   ],
   "source": [
    "fig = plt.figure(figsize=(10,6))\n",
    "ax = fig.add_subplot(111)\n",
    "\n",
    "ax = sns.countplot(x=\"match\", data=corr_under_50, palette = \"flare\")"
   ]
  },
  {
   "cell_type": "markdown",
   "metadata": {
    "id": "Y52VHN2PwkvD"
   },
   "source": [
    "**Outcome:** \n",
    "\n",
    "There is a positive correlation between similarity and match between both categories but not overly strong. Shows that it is not a linear realtionship between similarity and outcome. \n",
    "\n",
    "The higher number in matches shows that there are a large number of incorrect precitions within the true subsets. "
   ]
  },
  {
   "cell_type": "markdown",
   "metadata": {
    "id": "zAVXP-BebnLr"
   },
   "source": [
    "## Distribution<a class=\"anchor\" id=\"section_4_2\"></a>\n",
    "\n",
    "This analysis is to understand if we have similarity within target classes. We use the cosine similarity to plot the distribution."
   ]
  },
  {
   "cell_type": "code",
   "execution_count": null,
   "metadata": {
    "id": "sHN4FxrseVwA"
   },
   "outputs": [],
   "source": [
    "# Merge the two datasets from above of >50K and <=50K\n",
    "\n",
    "full_corr = pd.concat([corr_over_50, corr_under_50])"
   ]
  },
  {
   "cell_type": "markdown",
   "metadata": {},
   "source": [
    "##### Distribution for >50K"
   ]
  },
  {
   "cell_type": "code",
   "execution_count": null,
   "metadata": {
    "colab": {
     "base_uri": "https://localhost:8080/",
     "height": 412
    },
    "id": "XBQ3eF5IW9I3",
    "outputId": "96ddfa6a-468c-4990-efc6-87114fd23aed"
   },
   "outputs": [
    {
     "data": {
      "text/plain": [
       "Text(0.5, 1.0, 'Similarity Distribution >50K')"
      ]
     },
     "execution_count": 199,
     "metadata": {
      "tags": []
     },
     "output_type": "execute_result"
    },
    {
     "data": {
      "text/plain": [
       "<Figure size 576x360 with 0 Axes>"
      ]
     },
     "metadata": {
      "tags": []
     },
     "output_type": "display_data"
    },
    {
     "data": {
      "image/png": "[encoded data removed]",
      "text/plain": [
       "<Figure size 360x360 with 1 Axes>"
      ]
     },
     "metadata": {
      "tags": []
     },
     "output_type": "display_data"
    }
   ],
   "source": [
    "plt.figure()\n",
    "sns.set(style='whitegrid', palette=\"flare\", font_scale=1.1, rc={\"figure.figsize\": [8, 5]})\n",
    "g = sns.displot(\n",
    "    corr_over_50['similarity'], kde=False, bins=20\n",
    ").set(xlabel='Similarity', ylabel='Count')\n",
    "plt.title('Similarity Distribution >50K')"
   ]
  },
  {
   "cell_type": "markdown",
   "metadata": {},
   "source": [
    "##### Distribution for <=50K"
   ]
  },
  {
   "cell_type": "code",
   "execution_count": null,
   "metadata": {
    "colab": {
     "base_uri": "https://localhost:8080/",
     "height": 412
    },
    "id": "xBQu0gJng0Zu",
    "outputId": "f037f44c-d144-418e-a345-10e3c263f884"
   },
   "outputs": [
    {
     "data": {
      "text/plain": [
       "Text(0.5, 1.0, 'Similarity Distribution <=50K')"
      ]
     },
     "execution_count": 200,
     "metadata": {
      "tags": []
     },
     "output_type": "execute_result"
    },
    {
     "data": {
      "text/plain": [
       "<Figure size 576x360 with 0 Axes>"
      ]
     },
     "metadata": {
      "tags": []
     },
     "output_type": "display_data"
    },
    {
     "data": {
      "image/png": "[encoded data removed]",
      "text/plain": [
       "<Figure size 360x360 with 1 Axes>"
      ]
     },
     "metadata": {
      "tags": []
     },
     "output_type": "display_data"
    }
   ],
   "source": [
    "plt.figure()\n",
    "\n",
    "sns.set(style='whitegrid', palette=\"flare\", font_scale=1.1, rc={\"figure.figsize\": [8, 5]})\n",
    "sns.displot(\n",
    "    corr_under_50['similarity'], kde=False, bins=20\n",
    ").set(xlabel='Similarity', ylabel='Count');\n",
    "plt.title('Similarity Distribution <=50K')"
   ]
  },
  {
   "cell_type": "markdown",
   "metadata": {},
   "source": [
    "##### Plot both curves on the same graph \n"
   ]
  },
  {
   "cell_type": "code",
   "execution_count": null,
   "metadata": {
    "colab": {
     "base_uri": "https://localhost:8080/",
     "height": 412
    },
    "id": "waexQjWNe10k",
    "outputId": "df54240b-6d44-46ec-f37e-07bedf6c2ff7"
   },
   "outputs": [
    {
     "data": {
      "text/plain": [
       "Text(0.5, 1.0, 'Combined Similarity Distribution')"
      ]
     },
     "execution_count": 201,
     "metadata": {
      "tags": []
     },
     "output_type": "execute_result"
    },
    {
     "data": {
      "text/plain": [
       "<Figure size 576x360 with 0 Axes>"
      ]
     },
     "metadata": {
      "tags": []
     },
     "output_type": "display_data"
    },
    {
     "data": {
      "image/png": "[encoded data removed]",
      "text/plain": [
       "<Figure size 447.06x360 with 1 Axes>"
      ]
     },
     "metadata": {
      "tags": []
     },
     "output_type": "display_data"
    }
   ],
   "source": [
    "plt.figure()\n",
    "\n",
    "g = sns.displot(data=full_corr, x=\"similarity\", hue=\"outcome1\", kind=\"kde\", palette=\"flare\")\n",
    "g.set_axis_labels(\"Similarity\")\n",
    "plt.title(\"Combined Similarity Distribution\")"
   ]
  },
  {
   "cell_type": "markdown",
   "metadata": {
    "id": "NC7ZhFUQgDtD"
   },
   "source": [
    "Plot makes sense as it shows that there are a large number of samples that are close in cosine distance but less so in terms of similarity - a similarity around 0 means that the vectors are perdendicular in the space and that the model still makes a large number of incorrect predictions for the category. \n",
    "\n",
    "The few values from the 0.3 and -0.3 similarity level onwards can be said to be that of strong predications with higher similarity as they are closer in the distance space.  \n",
    "\n",
    "There is a lower peak for the <=50K category showing that it is less likely to have values assigned incorrect outcomes which is also seen in the models stronger ability to predict this category. \n",
    "\n",
    "In aiming for individual fairness without 'strong' features such as protected features the model finds it difficult to get every individuals outcome correct. "
   ]
  },
  {
   "cell_type": "markdown",
   "metadata": {
    "id": "8isIF0RGgBVb"
   },
   "source": [
    "## Analysis of Similarity on Incorrect predictions<a class=\"anchor\" id=\"section_4_3\"></a>\n"
   ]
  },
  {
   "cell_type": "markdown",
   "metadata": {
    "id": "cLoqtzBOgIXS"
   },
   "source": [
    "This section tests the areas in which the model made incorrect predictions and checking the similarity of the incorrect predictions. \n"
   ]
  },
  {
   "cell_type": "code",
   "execution_count": null,
   "metadata": {
    "id": "wYB1j_O9gF-7"
   },
   "outputs": [],
   "source": [
    "test_incorrect = new_test.copy()\n",
    "test_incorrect[\"Y_Pred\"] = new_Y_pred\n",
    "test_incorrect = test_incorrect.drop(['marital-status', 'relationship', 'race', 'sex', 'native-country'], True)\n",
    "\n",
    "for i, row in test_incorrect.iterrows():\n",
    "    if row.earnings == row.Y_Pred:\n",
    "        test_incorrect.loc[i,'match'] = 1\n",
    "\n",
    "    else:\n",
    "        test_incorrect.loc[i,'match'] = 0\n"
   ]
  },
  {
   "cell_type": "code",
   "execution_count": null,
   "metadata": {
    "id": "sOVxd_zkh2NO"
   },
   "outputs": [],
   "source": [
    "test_greater_50 = test_incorrect[np.logical_and(test_incorrect['earnings'] == \">50K\", test_incorrect[\"match\"]==0.0)]\n",
    "test_less_50 = test_incorrect[np.logical_and(test_incorrect['earnings'] == \"<=50K\", test_incorrect[\"match\"]==0.0)]\n",
    "\n",
    "train_greater_50 = new_train.loc[new_train['earnings'] == \">50K\"]\n",
    "train_less_50 = new_train.loc[new_train['earnings'] == \"<=50K\"]"
   ]
  },
  {
   "cell_type": "markdown",
   "metadata": {},
   "source": [
    "##### Scatter for <=50K"
   ]
  },
  {
   "cell_type": "code",
   "execution_count": null,
   "metadata": {
    "colab": {
     "base_uri": "https://localhost:8080/",
     "height": 644
    },
    "id": "oZg3nDnqqR6P",
    "outputId": "503e338e-645b-4f43-dd60-b53afaa339c6"
   },
   "outputs": [
    {
     "data": {
      "image/png": "[encoded data removed]",
      "text/plain": [
       "<Figure size 1440x864 with 1 Axes>"
      ]
     },
     "metadata": {
      "tags": []
     },
     "output_type": "display_data"
    }
   ],
   "source": [
    "plt.figure(figsize=(20,12))\n",
    "\n",
    "sns.scatterplot(x=\"age\", y=\"education-num\", data=test_less_50, palette=\"flare\", hue=\"earnings\")\n",
    "sns.scatterplot(x=\"age\", y=\"education-num\", data=train_less_50, palette=\"Set2\", hue=\"earnings\")\n",
    "\n",
    "plt.title('<=50K Training vs Test Comparison')\n",
    "\n",
    "plt.show()"
   ]
  },
  {
   "cell_type": "markdown",
   "metadata": {},
   "source": [
    "##### Scatter for >50K"
   ]
  },
  {
   "cell_type": "code",
   "execution_count": null,
   "metadata": {
    "colab": {
     "base_uri": "https://localhost:8080/",
     "height": 644
    },
    "id": "JBshHkJqqXta",
    "outputId": "8a4ecf6a-bd72-4bdb-cb4f-3409a851eb76"
   },
   "outputs": [
    {
     "data": {
      "image/png": "[encoded data removed]",
      "text/plain": [
       "<Figure size 1440x864 with 1 Axes>"
      ]
     },
     "metadata": {
      "tags": []
     },
     "output_type": "display_data"
    }
   ],
   "source": [
    "plt.figure(figsize=(20,12))\n",
    "\n",
    "sns.scatterplot(x=\"age\", y=\"education-num\", data=test_greater_50, palette=\"flare\", hue=\"earnings\")\n",
    "sns.scatterplot(x=\"age\", y=\"education-num\", data=train_greater_50, palette=\"Set2\", hue=\"earnings\")\n",
    "\n",
    "\n",
    "plt.title('>50K Training vs Test Comparison')\n",
    "\n",
    "plt.show()"
   ]
  },
  {
   "cell_type": "markdown",
   "metadata": {
    "id": "bHuZfitdrIly"
   },
   "source": [
    "**Outcome:** \n",
    "\n",
    "Here the two highest weighted features are plotted and compared between the training and testing samples. When using age as a key factor for model decisions it is clear that not having an example of the exact age within the training dataset is causing incorrect predictions. \n",
    "\n",
    "Incorrect predictions on the test set are represented by the purple dots. It can be seen that with no example in the training set these are predicted incorrectly. "
   ]
  },
  {
   "cell_type": "code",
   "execution_count": null,
   "metadata": {
    "id": "ud6jxW5yqkk4"
   },
   "outputs": [],
   "source": []
  }
 ],
 "metadata": {
  "colab": {
   "collapsed_sections": [],
   "name": "Assignment1.ipynb",
   "provenance": [],
   "toc_visible": true
  },
  "kernelspec": {
   "display_name": "Python 3 (ipykernel)",
   "language": "python",
   "name": "python3"
  },
  "language_info": {
   "codemirror_mode": {
    "name": "ipython",
    "version": 3
   },
   "file_extension": ".py",
   "mimetype": "text/x-python",
   "name": "python",
   "nbconvert_exporter": "python",
   "pygments_lexer": "ipython3",
   "version": "3.9.13"
  }
 },
 "nbformat": 4,
 "nbformat_minor": 1
}
